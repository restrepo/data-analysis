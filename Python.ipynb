{
  "nbformat": 4,
  "nbformat_minor": 0,
  "metadata": {
    "colab": {
      "name": "Python.ipynb",
      "version": "0.3.2",
      "provenance": [],
      "include_colab_link": true
    },
    "kernelspec": {
      "display_name": "Python 3",
      "language": "python",
      "name": "python3"
    }
  },
  "cells": [
    {
      "cell_type": "markdown",
      "metadata": {
        "id": "view-in-github",
        "colab_type": "text"
      },
      "source": [
        "<a href=\"https://colab.research.google.com/github/restrepo/data-analysis/blob/master/Python.ipynb\" target=\"_parent\"><img src=\"https://colab.research.google.com/assets/colab-badge.svg\" alt=\"Open In Colab\"/></a>"
      ]
    },
    {
      "metadata": {
        "id": "iG7ZWid_iA4f",
        "colab_type": "text"
      },
      "cell_type": "markdown",
      "source": [
        "<div style=\"float: right;\" markdown=\"1\">\n",
        "    <img src=\"https://www.python.org/static/community_logos/python-logo-master-v3-TM.png\">\n",
        "</div>\n",
        "\n",
        "# PYTHON\n",
        "\n",
        "Python is an interpreted programming language oriented to create code easy to understand and readable.\n",
        "\n",
        "In combination with jupyter notebooks, like this one, and tools like [Pandas](./pandas.ipynb), it can be used as one platform for data-science. \n",
        "\n",
        "Here we describe the general concepts used in the construction of the DataFrame, the main object in [Pandas](./pandas.ipynb). A DataFrame can be seen as the implementation of a spreadsheet at the programming level. \n",
        "\n",
        "## Functions\n",
        "To write the _Hello world_ program in python we must first introduce the concept of function. It is the same in mathematics, were something called function receives a number and return back another number. For example, the function to square a number is\n",
        "\\begin{equation}\n",
        "f(x)=x^2\\,,\n",
        "\\end{equation}\n",
        "$x$ is called the argument of the function $f$, and the _returned_ value is the evaluation of $f(x)$.\n",
        "\n",
        "In `Python` there are a lot of such a functions.\n",
        "In particular there is a function called `print` which takes strings (see below) as input and return the same string as output. In this way, the __hello world__ program in Python is one of the most simple between all the programming languages:"
      ]
    },
    {
      "metadata": {
        "id": "QGTlCXFMiA4h",
        "colab_type": "code",
        "outputId": "123de8a5-2ff3-47f1-8564-1b4aa9390bb5",
        "colab": {
          "base_uri": "https://localhost:8080/",
          "height": 35
        }
      },
      "cell_type": "code",
      "source": [
        "print(\"hello world!\")"
      ],
      "execution_count": 2,
      "outputs": [
        {
          "output_type": "stream",
          "text": [
            "hello world!\n"
          ],
          "name": "stdout"
        }
      ]
    },
    {
      "metadata": {
        "id": "fFlns9T1SMM2",
        "colab_type": "text"
      },
      "cell_type": "markdown",
      "source": [
        "This function can print almost everything:"
      ]
    },
    {
      "metadata": {
        "id": "cvWo5iyXRIaP",
        "colab_type": "code",
        "colab": {
          "base_uri": "https://localhost:8080/",
          "height": 35
        },
        "outputId": "7cad439b-8cc0-4489-aee1-79bb2a337fbe"
      },
      "cell_type": "code",
      "source": [
        "print( 2 )"
      ],
      "execution_count": 3,
      "outputs": [
        {
          "output_type": "stream",
          "text": [
            "2\n"
          ],
          "name": "stdout"
        }
      ]
    },
    {
      "metadata": {
        "id": "RXAeA7f6ROef",
        "colab_type": "code",
        "colab": {
          "base_uri": "https://localhost:8080/",
          "height": 35
        },
        "outputId": "6e7f0ccf-6bb9-48b1-aa1f-df973f712d05"
      },
      "cell_type": "code",
      "source": [
        "print(5.567)"
      ],
      "execution_count": 4,
      "outputs": [
        {
          "output_type": "stream",
          "text": [
            "5.567\n"
          ],
          "name": "stdout"
        }
      ]
    },
    {
      "metadata": {
        "id": "_MxhXUZYRRfn",
        "colab_type": "code",
        "colab": {
          "base_uri": "https://localhost:8080/",
          "height": 35
        },
        "outputId": "5582c73c-e5d0-4189-8c92-0f3d550c7c1e"
      },
      "cell_type": "code",
      "source": [
        "print(5.23E+13)"
      ],
      "execution_count": 5,
      "outputs": [
        {
          "output_type": "stream",
          "text": [
            "52300000000000.0\n"
          ],
          "name": "stdout"
        }
      ]
    },
    {
      "metadata": {
        "id": "hmoY1PVJiA4o",
        "colab_type": "text"
      },
      "cell_type": "markdown",
      "source": [
        "n `Python` it is possible also to create new [functions](https://en.wikibooks.org/wiki/Python_Programming/Functions). We illustrate the format to define a function in `Python` with the implementation of the function $f(x)=x^2$, where to write an exponent: ${}^2$, in Python we must use the format: `**2`."
      ]
    },
    {
      "metadata": {
        "id": "dr7vmvveiA4p",
        "colab_type": "code",
        "colab": {}
      },
      "cell_type": "code",
      "source": [
        "def f(x):\n",
        "    return x**2"
      ],
      "execution_count": 0,
      "outputs": []
    },
    {
      "metadata": {
        "id": "vGVLP1OliA4r",
        "colab_type": "text"
      },
      "cell_type": "markdown",
      "source": [
        "__Activity__: Use the previous function with some number in the cell below"
      ]
    },
    {
      "metadata": {
        "id": "dYnuAtznjXVO",
        "colab_type": "code",
        "colab": {}
      },
      "cell_type": "code",
      "source": [
        ""
      ],
      "execution_count": 0,
      "outputs": []
    },
    {
      "metadata": {
        "id": "KMrCDeiyiA4s",
        "colab_type": "text"
      },
      "cell_type": "markdown",
      "source": [
        "For simple functions, like the one before, it is also possible to use the format of the  [lambda  function](https://en.wikibooks.org/wiki/Python_Programming/Functions#Lambda_Expressions). It is used primarily to write very short functions that are a hassle to define in the normal way. The previous function in the `lambda` format is:"
      ]
    },
    {
      "metadata": {
        "id": "AtkwAYC1iA4s",
        "colab_type": "code",
        "colab": {}
      },
      "cell_type": "code",
      "source": [
        "f=lambda x: x**2"
      ],
      "execution_count": 0,
      "outputs": []
    },
    {
      "metadata": {
        "id": "Zko7pm-yiA4v",
        "colab_type": "text"
      },
      "cell_type": "markdown",
      "source": [
        "__Activity__: use the `lambda` format to define the function $f(x)=x^3$, and use it with some number"
      ]
    },
    {
      "metadata": {
        "id": "ndXHO6ojiA4x",
        "colab_type": "code",
        "colab": {}
      },
      "cell_type": "code",
      "source": [
        ""
      ],
      "execution_count": 0,
      "outputs": []
    },
    {
      "metadata": {
        "id": "SjpWjx50jY83",
        "colab_type": "code",
        "colab": {}
      },
      "cell_type": "code",
      "source": [
        ""
      ],
      "execution_count": 0,
      "outputs": []
    },
    {
      "metadata": {
        "id": "CfMUwjyqiA4z",
        "colab_type": "text"
      },
      "cell_type": "markdown",
      "source": [
        "## Types of variables\n",
        "A variable is an assigned name to store some type of information that may be changed later on:\n",
        "\n",
        "In each cell must be executed with `<shit>+<enter>`"
      ]
    },
    {
      "metadata": {
        "id": "GWFKgaRdiA4z",
        "colab_type": "code",
        "colab": {}
      },
      "cell_type": "code",
      "source": [
        "age=33"
      ],
      "execution_count": 0,
      "outputs": []
    },
    {
      "metadata": {
        "id": "-qrjXLVaiA42",
        "colab_type": "text"
      },
      "cell_type": "markdown",
      "source": [
        "One year later..."
      ]
    },
    {
      "metadata": {
        "id": "DaSzrmEMiA43",
        "colab_type": "code",
        "colab": {}
      },
      "cell_type": "code",
      "source": [
        "age=34"
      ],
      "execution_count": 0,
      "outputs": []
    },
    {
      "metadata": {
        "id": "er8AuDBhiA45",
        "colab_type": "text"
      },
      "cell_type": "markdown",
      "source": [
        "In `Python` you can know the value of a variable by using the `print` function:"
      ]
    },
    {
      "metadata": {
        "id": "vn-4QwDsiA47",
        "colab_type": "code",
        "outputId": "47f4bc66-70b3-4987-d410-b37c9515be4f",
        "colab": {}
      },
      "cell_type": "code",
      "source": [
        "print(age)"
      ],
      "execution_count": 0,
      "outputs": [
        {
          "output_type": "stream",
          "text": [
            "34\n"
          ],
          "name": "stdout"
        }
      ]
    },
    {
      "metadata": {
        "id": "9AY8atcYiA4-",
        "colab_type": "text"
      },
      "cell_type": "markdown",
      "source": [
        "while, inside the notebook it is enough to write the variable itself:"
      ]
    },
    {
      "metadata": {
        "id": "R93XGRrRiA4_",
        "colab_type": "code",
        "outputId": "2d22ba49-1cb8-4d46-d067-7f6868326f95",
        "colab": {}
      },
      "cell_type": "code",
      "source": [
        "age"
      ],
      "execution_count": 0,
      "outputs": [
        {
          "output_type": "execute_result",
          "data": {
            "text/plain": [
              "34"
            ]
          },
          "metadata": {
            "tags": []
          },
          "execution_count": 4
        }
      ]
    },
    {
      "metadata": {
        "id": "d12eBIXOiA5B",
        "colab_type": "text"
      },
      "cell_type": "markdown",
      "source": [
        "Below, we list the main type of variables in `Python`\n",
        "## Integers \n",
        "Like the variable `age` before. To confirm that it is in fact an integer number for `Python`, check with:"
      ]
    },
    {
      "metadata": {
        "id": "uhfZfbXAiA5C",
        "colab_type": "code",
        "outputId": "447b4355-cfa1-471d-c439-5bb4886eae11",
        "colab": {}
      },
      "cell_type": "code",
      "source": [
        "type(age)"
      ],
      "execution_count": 0,
      "outputs": [
        {
          "output_type": "execute_result",
          "data": {
            "text/plain": [
              "int"
            ]
          },
          "metadata": {
            "tags": []
          },
          "execution_count": 5
        }
      ]
    },
    {
      "metadata": {
        "id": "EnNZb78uiA5F",
        "colab_type": "text"
      },
      "cell_type": "markdown",
      "source": [
        "## Floats\n",
        "This are just real numbers, the _must_ have the decimal period, even without further decimals"
      ]
    },
    {
      "metadata": {
        "id": "GUDLlLLhiA5G",
        "colab_type": "code",
        "colab": {}
      },
      "cell_type": "code",
      "source": [
        "a=10.34\n",
        "b=2.3"
      ],
      "execution_count": 0,
      "outputs": []
    },
    {
      "metadata": {
        "id": "81UEEZHpiA5J",
        "colab_type": "text"
      },
      "cell_type": "markdown",
      "source": [
        "__Activity__: Print the addition of the two previuos float variables in the next cell"
      ]
    },
    {
      "metadata": {
        "id": "Ohuovvt7iA5K",
        "colab_type": "code",
        "colab": {}
      },
      "cell_type": "code",
      "source": [
        ""
      ],
      "execution_count": 0,
      "outputs": []
    },
    {
      "metadata": {
        "id": "deBtl2GjiA5M",
        "colab_type": "text"
      },
      "cell_type": "markdown",
      "source": [
        "## Strings\n",
        "The are just anything witting inside single block quotes: `'`, or double block quotes: `\"`"
      ]
    },
    {
      "metadata": {
        "id": "7LWhVqn6iA5N",
        "colab_type": "code",
        "colab": {}
      },
      "cell_type": "code",
      "source": [
        "name=\"Juan \"\n",
        "lastname=\"Valdez\""
      ],
      "execution_count": 0,
      "outputs": []
    },
    {
      "metadata": {
        "id": "QBzNGm11iA5Q",
        "colab_type": "text"
      },
      "cell_type": "markdown",
      "source": [
        "__Activity__: Print the rsult of add the two strings variables:"
      ]
    },
    {
      "metadata": {
        "id": "uTDgxZ7piA5R",
        "colab_type": "code",
        "colab": {}
      },
      "cell_type": "code",
      "source": [
        ""
      ],
      "execution_count": 0,
      "outputs": []
    },
    {
      "metadata": {
        "id": "ba8hAr6NiA5V",
        "colab_type": "text"
      },
      "cell_type": "markdown",
      "source": [
        "## List\n",
        "It is convenient way of store several values in the same variable. The values are enclosed between brackets \"`[ ]`\", and separated by commas. There is a simplified version of list enclosed between parenthesis, \"`( )`\", called tuples. For example, the lists of the one-digit even and odd integers are respectively:"
      ]
    },
    {
      "metadata": {
        "id": "UVoetra6iA5X",
        "colab_type": "code",
        "colab": {}
      },
      "cell_type": "code",
      "source": [
        "even=[0,2,4,6,8]\n",
        "odd =[1,3,5,7,9]"
      ],
      "execution_count": 0,
      "outputs": []
    },
    {
      "metadata": {
        "id": "EVLu8auOiA5Z",
        "colab_type": "text"
      },
      "cell_type": "markdown",
      "source": [
        "__Activity__: Store the result of the addition of the list of the even integers with the list of the odd integers in a new list called `numbers`, and print the list `numbers`. The two operations can be done in subsequent lines of the same cell:"
      ]
    },
    {
      "metadata": {
        "id": "2ZFbPUp7iA5a",
        "colab_type": "code",
        "colab": {}
      },
      "cell_type": "code",
      "source": [
        ""
      ],
      "execution_count": 0,
      "outputs": []
    },
    {
      "metadata": {
        "id": "Ye-C1zI-iA5c",
        "colab_type": "text"
      },
      "cell_type": "markdown",
      "source": [
        "__Activity__: Use the list `numbers` obtained in the previous activity as an argument of the `Python` function called: `sorted`, to obtain the ordered list of one digit integers:"
      ]
    },
    {
      "metadata": {
        "id": "bMP21PnKkF0g",
        "colab_type": "code",
        "colab": {}
      },
      "cell_type": "code",
      "source": [
        ""
      ],
      "execution_count": 0,
      "outputs": []
    },
    {
      "metadata": {
        "id": "2RtFUn4diA5d",
        "colab_type": "text"
      },
      "cell_type": "markdown",
      "source": [
        "To obtain an element of a list we can use the postion in the list starting with 0. Yes, with 0!"
      ]
    },
    {
      "metadata": {
        "id": "r7MF0OD2iA5d",
        "colab_type": "code",
        "outputId": "f1f7c48c-4e26-4569-d020-b34397e0b128",
        "colab": {}
      },
      "cell_type": "code",
      "source": [
        "odd[0]"
      ],
      "execution_count": 0,
      "outputs": [
        {
          "output_type": "execute_result",
          "data": {
            "text/plain": [
              "1"
            ]
          },
          "metadata": {
            "tags": []
          },
          "execution_count": 16
        }
      ]
    },
    {
      "metadata": {
        "id": "tAg1R2u0iA5g",
        "colab_type": "code",
        "outputId": "2922c414-93da-453c-8941-484c71d679e0",
        "colab": {}
      },
      "cell_type": "code",
      "source": [
        "even[3]"
      ],
      "execution_count": 0,
      "outputs": [
        {
          "output_type": "execute_result",
          "data": {
            "text/plain": [
              "6"
            ]
          },
          "metadata": {
            "tags": []
          },
          "execution_count": 17
        }
      ]
    },
    {
      "metadata": {
        "id": "IHIvcxrBiA5k",
        "colab_type": "text"
      },
      "cell_type": "markdown",
      "source": [
        "## Dictionaries\n",
        "It is difficult some times to find the position of an element of a long list. \n",
        "Fortunately there is also  the labeled list, called dictionary. The elements of the dictionay are enclosed by curled brackets \"{ }\", separate by commas, and each element is a pair of keys and values with the assignment given by \":\":"
      ]
    },
    {
      "metadata": {
        "id": "G54VqD8ViA5k",
        "colab_type": "code",
        "colab": {}
      },
      "cell_type": "code",
      "source": [
        "atracadores={'Germany'       :'Berlin',\n",
        "             'Kenia'         :'Nairobi',\n",
        "             'Noruega'       :'Oslo',\n",
        "             'Finlandia'     :'Helsinski',\n",
        "             'Rusía'         :'Moscú',\n",
        "             'Rio de Janeiro':'Rio',\n",
        "             'Japón'         :'Tokio',\n",
        "             'Colorado'      :'Denver'}"
      ],
      "execution_count": 0,
      "outputs": []
    },
    {
      "metadata": {
        "id": "6U98ZoTdiA5m",
        "colab_type": "code",
        "outputId": "1b35d545-ab02-40ef-f220-64d60d717027",
        "colab": {}
      },
      "cell_type": "code",
      "source": [
        "print('{} ♥ {}'.format( atracadores['Japón'], atracadores['Rio de Janeiro']) )"
      ],
      "execution_count": 0,
      "outputs": [
        {
          "output_type": "stream",
          "text": [
            "Tokio ♥ Rio\n"
          ],
          "name": "stdout"
        }
      ]
    },
    {
      "metadata": {
        "id": "rwszspiOiA5q",
        "colab_type": "text"
      },
      "cell_type": "markdown",
      "source": [
        "## Methods and attributes\n",
        "All the objects in `Python`, including the function and variable types discussed here, are enhanced with special functions called _methods_, which are implemented after a point of the name of the variable, in the format:\n",
        "```python\n",
        "variable.method()\n",
        "```\n",
        "Some times, the method can even accept some argument. \n",
        "\n",
        "The objects have also attributes which describe some property of the object. They do not end up with parenthesis:\n",
        "```python\n",
        "variable.attribute\n",
        "```"
      ]
    },
    {
      "metadata": {
        "id": "_h-jWNQfiA5q",
        "colab_type": "text"
      },
      "cell_type": "markdown",
      "source": [
        "### Methods\n",
        "For example. The method `.keys()` of a variable dictionary allows to obtain the list of keys of the dictionary. For example"
      ]
    },
    {
      "metadata": {
        "id": "iOfr3j2CiA5r",
        "colab_type": "code",
        "outputId": "274e431c-51b4-4f8e-e771-fb120dd0d0f0",
        "colab": {}
      },
      "cell_type": "code",
      "source": [
        "print( atracadores.keys() )"
      ],
      "execution_count": 0,
      "outputs": [
        {
          "output_type": "stream",
          "text": [
            "dict_keys(['Kenia', 'Rusía', 'Noruega', 'Germany', 'Finlandia', 'Japón', 'Colorado', 'Rio de Janeiro'])\n"
          ],
          "name": "stdout"
        }
      ]
    },
    {
      "metadata": {
        "id": "eXWW_VkQiA5w",
        "colab_type": "text"
      },
      "cell_type": "markdown",
      "source": [
        "And the list of values:"
      ]
    },
    {
      "metadata": {
        "id": "DvKe0_JfiA5x",
        "colab_type": "code",
        "outputId": "4aeaaf47-5dc6-4047-dc2b-301c32396b5c",
        "colab": {}
      },
      "cell_type": "code",
      "source": [
        "print( atracadores.values() )"
      ],
      "execution_count": 0,
      "outputs": [
        {
          "output_type": "stream",
          "text": [
            "dict_values(['Nairobi', 'Moscú', 'Oslo', 'Berlin', 'Helsinski', 'Tokio', 'Denver', 'Rio'])\n"
          ],
          "name": "stdout"
        }
      ]
    },
    {
      "metadata": {
        "id": "UAn_HuHPiA5z",
        "colab_type": "text"
      },
      "cell_type": "markdown",
      "source": [
        "In the same way, the method `.update()` allows to join two dictionaries:"
      ]
    },
    {
      "metadata": {
        "id": "XNUJEjQviA50",
        "colab_type": "code",
        "colab": {}
      },
      "cell_type": "code",
      "source": [
        "atracadores.update({'Suecia':'Estocolmo'})"
      ],
      "execution_count": 0,
      "outputs": []
    },
    {
      "metadata": {
        "id": "SzXfcI5ziA53",
        "colab_type": "code",
        "outputId": "93ec32f6-0fca-45f3-e990-b26546dda823",
        "colab": {}
      },
      "cell_type": "code",
      "source": [
        "atracadores"
      ],
      "execution_count": 0,
      "outputs": [
        {
          "output_type": "execute_result",
          "data": {
            "text/plain": [
              "{'Colorado': 'Denver',\n",
              " 'Finlandia': 'Helsinski',\n",
              " 'Germany': 'Berlin',\n",
              " 'Japón': 'Tokio',\n",
              " 'Kenia': 'Nairobi',\n",
              " 'Noruega': 'Oslo',\n",
              " 'Rio de Janeiro': 'Rio',\n",
              " 'Rusía': 'Moscú',\n",
              " 'Suecia': 'Estocolmo'}"
            ]
          },
          "metadata": {
            "tags": []
          },
          "execution_count": 36
        }
      ]
    },
    {
      "metadata": {
        "id": "mOUqdWVYiA57",
        "colab_type": "text"
      },
      "cell_type": "markdown",
      "source": [
        "Note that dictionary are automatically ordered by keys"
      ]
    },
    {
      "metadata": {
        "id": "aB-nwzShiA57",
        "colab_type": "text"
      },
      "cell_type": "markdown",
      "source": [
        "For strings we have for example the conversion to lower case"
      ]
    },
    {
      "metadata": {
        "id": "-XA9TzjuiA57",
        "colab_type": "code",
        "outputId": "5a9c4461-fcb1-4f3a-97eb-2f36cd4e75f0",
        "colab": {}
      },
      "cell_type": "code",
      "source": [
        "\"Juan Valdez\".lower()"
      ],
      "execution_count": 0,
      "outputs": [
        {
          "output_type": "execute_result",
          "data": {
            "text/plain": [
              "'juan valdez'"
            ]
          },
          "metadata": {
            "tags": []
          },
          "execution_count": 1
        }
      ]
    },
    {
      "metadata": {
        "id": "03gK_sXYiA5_",
        "colab_type": "text"
      },
      "cell_type": "markdown",
      "source": [
        "### Attributes"
      ]
    },
    {
      "metadata": {
        "id": "PLTZ_VYIiA5_",
        "colab_type": "code",
        "colab": {}
      },
      "cell_type": "code",
      "source": [
        "a=1j"
      ],
      "execution_count": 0,
      "outputs": []
    },
    {
      "metadata": {
        "id": "Sj9SoOyRiA6A",
        "colab_type": "code",
        "outputId": "ed38161c-9c5d-43fd-8af9-b14d0a927b2b",
        "colab": {}
      },
      "cell_type": "code",
      "source": [
        "a.imag"
      ],
      "execution_count": 0,
      "outputs": [
        {
          "output_type": "execute_result",
          "data": {
            "text/plain": [
              "1.0"
            ]
          },
          "metadata": {
            "tags": []
          },
          "execution_count": 22
        }
      ]
    },
    {
      "metadata": {
        "id": "AiL4w2ByiA6C",
        "colab_type": "text"
      },
      "cell_type": "markdown",
      "source": [
        "All the methods and attributes of an object can be accessed by using the `<TAB>` key after write down the point:\n",
        "```python\n",
        "variable.<TAB>\n",
        "```"
      ]
    },
    {
      "metadata": {
        "id": "jkH7OX3wiA6D",
        "colab_type": "text"
      },
      "cell_type": "markdown",
      "source": [
        "__Activity__: Check the methods and attributes of the dictionary `atracadores`. HINT: Check the help for some of them by using a question mark, \"?\", at the end:\n",
        "```\n",
        "variable.method?\n",
        "```"
      ]
    },
    {
      "metadata": {
        "id": "-sRhfwo2iA6E",
        "colab_type": "text"
      },
      "cell_type": "markdown",
      "source": [
        "# Pandas\n",
        "Please follow with [Pandas](./Pandas.ipynb)"
      ]
    }
  ]
}