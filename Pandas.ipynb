{
  "nbformat": 4,
  "nbformat_minor": 0,
  "metadata": {
    "colab": {
      "name": "Pandas.ipynb",
      "version": "0.3.2",
      "provenance": [],
      "include_colab_link": true
    },
    "language_info": {
      "codemirror_mode": {
        "name": "ipython",
        "version": 3
      },
      "file_extension": ".py",
      "mimetype": "text/x-python",
      "name": "python",
      "nbconvert_exporter": "python",
      "pygments_lexer": "ipython3",
      "version": "3.4.2"
    },
    "kernelspec": {
      "display_name": "Python 3",
      "language": "python",
      "name": "python3"
    }
  },
  "cells": [
    {
      "cell_type": "markdown",
      "metadata": {
        "id": "view-in-github",
        "colab_type": "text"
      },
      "source": [
        "<a href=\"https://colab.research.google.com/github/restrepo/data-analysis/blob/master/Pandas.ipynb\" target=\"_parent\"><img src=\"https://colab.research.google.com/assets/colab-badge.svg\" alt=\"Open In Colab\"/></a>"
      ]
    },
    {
      "metadata": {
        "id": "OPmlF8AHBFfJ",
        "colab_type": "text"
      },
      "cell_type": "markdown",
      "source": [
        "# Pandas"
      ]
    },
    {
      "metadata": {
        "id": "giN-mEiIBXre",
        "colab_type": "text"
      },
      "cell_type": "markdown",
      "source": [
        "## Basic structure: DataFrame"
      ]
    },
    {
      "metadata": {
        "id": "HIX-exXKBFfL",
        "colab_type": "text"
      },
      "cell_type": "markdown",
      "source": [
        "An flat _spreadsheet_ can be seen in terms of the types of variables of `Python` just as dictionary of lists, where each column of the spreadsheet is a pair key-list of the dictionary \n",
        "\n",
        "|   |  A   |  B   |\n",
        "|---|:----:|:----:|\n",
        "| 1 | even | odd  |\n",
        "| 2 |   0  | 1    |\n",
        "| 3 |   2  | 3    |\n",
        "| 4 |   4  | 5    |\n",
        "| 5 |   6  | 7    |\n",
        "| 6 |   8  | 9    |"
      ]
    },
    {
      "metadata": {
        "id": "0stqJIn5BFfL",
        "colab_type": "code",
        "colab": {}
      },
      "cell_type": "code",
      "source": [
        "numbers={\"even\": [0,2,4,6,8],   #  First  key-list\n",
        "         \"odd\" : [1,3,5,7,9] }  #  Second key-list"
      ],
      "execution_count": 0,
      "outputs": []
    },
    {
      "metadata": {
        "id": "saTRBtbZBFfQ",
        "colab_type": "text"
      },
      "cell_type": "markdown",
      "source": [
        "### DataFrame\n",
        "`Pandas` converts this dictionary of lists, into a `DataFrame` which is just an spreadsheet but interpreted at the programming level. It can and can be managed without a graphical interface."
      ]
    },
    {
      "metadata": {
        "id": "d6GlsKcOBFfR",
        "colab_type": "code",
        "colab": {},
        "outputId": "7d7f9f79-22c8-4a89-94d4-63af8058d43d"
      },
      "cell_type": "code",
      "source": [
        "import pandas as pd\n",
        "pd.set_option('display.max_colwidth',200)\n",
        "df=pd.DataFrame(numbers)\n",
        "df"
      ],
      "execution_count": 0,
      "outputs": [
        {
          "output_type": "execute_result",
          "data": {
            "text/html": [
              "<div>\n",
              "<table border=\"1\" class=\"dataframe\">\n",
              "  <thead>\n",
              "    <tr style=\"text-align: right;\">\n",
              "      <th></th>\n",
              "      <th>even</th>\n",
              "      <th>odd</th>\n",
              "    </tr>\n",
              "  </thead>\n",
              "  <tbody>\n",
              "    <tr>\n",
              "      <th>0</th>\n",
              "      <td>0</td>\n",
              "      <td>1</td>\n",
              "    </tr>\n",
              "    <tr>\n",
              "      <th>1</th>\n",
              "      <td>2</td>\n",
              "      <td>3</td>\n",
              "    </tr>\n",
              "    <tr>\n",
              "      <th>2</th>\n",
              "      <td>4</td>\n",
              "      <td>5</td>\n",
              "    </tr>\n",
              "    <tr>\n",
              "      <th>3</th>\n",
              "      <td>6</td>\n",
              "      <td>7</td>\n",
              "    </tr>\n",
              "    <tr>\n",
              "      <th>4</th>\n",
              "      <td>8</td>\n",
              "      <td>9</td>\n",
              "    </tr>\n",
              "  </tbody>\n",
              "</table>\n",
              "</div>"
            ],
            "text/plain": [
              "   even  odd\n",
              "0     0    1\n",
              "1     2    3\n",
              "2     4    5\n",
              "3     6    7\n",
              "4     8    9"
            ]
          },
          "metadata": {
            "tags": []
          },
          "execution_count": 154
        }
      ]
    },
    {
      "metadata": {
        "id": "PTmoBqUjBFfa",
        "colab_type": "text"
      },
      "cell_type": "markdown",
      "source": [
        "It is equivalent to:"
      ]
    },
    {
      "metadata": {
        "id": "Pzg72K7ABFfb",
        "colab_type": "code",
        "colab": {},
        "outputId": "7bb200e2-35ea-44e1-c62b-7fa481119c2c"
      },
      "cell_type": "code",
      "source": [
        "pd.DataFrame.from_dict(numbers)"
      ],
      "execution_count": 0,
      "outputs": [
        {
          "output_type": "execute_result",
          "data": {
            "text/html": [
              "<div>\n",
              "<table border=\"1\" class=\"dataframe\">\n",
              "  <thead>\n",
              "    <tr style=\"text-align: right;\">\n",
              "      <th></th>\n",
              "      <th>even</th>\n",
              "      <th>odd</th>\n",
              "    </tr>\n",
              "  </thead>\n",
              "  <tbody>\n",
              "    <tr>\n",
              "      <th>0</th>\n",
              "      <td>0</td>\n",
              "      <td>1</td>\n",
              "    </tr>\n",
              "    <tr>\n",
              "      <th>1</th>\n",
              "      <td>2</td>\n",
              "      <td>3</td>\n",
              "    </tr>\n",
              "    <tr>\n",
              "      <th>2</th>\n",
              "      <td>4</td>\n",
              "      <td>5</td>\n",
              "    </tr>\n",
              "    <tr>\n",
              "      <th>3</th>\n",
              "      <td>6</td>\n",
              "      <td>7</td>\n",
              "    </tr>\n",
              "    <tr>\n",
              "      <th>4</th>\n",
              "      <td>8</td>\n",
              "      <td>9</td>\n",
              "    </tr>\n",
              "  </tbody>\n",
              "</table>\n",
              "</div>"
            ],
            "text/plain": [
              "   even  odd\n",
              "0     0    1\n",
              "1     2    3\n",
              "2     4    5\n",
              "3     6    7\n",
              "4     8    9"
            ]
          },
          "metadata": {
            "tags": []
          },
          "execution_count": 155
        }
      ]
    },
    {
      "metadata": {
        "id": "TNiKG2hYBFfe",
        "colab_type": "text"
      },
      "cell_type": "markdown",
      "source": [
        "See below for other possibilities of [creating Pandas DataFrames from lists and dictionaries](https://fisica.udea.edu.co:4443/user/restrepo/notebooks/prog/cursos/data-analysis/Pandas.ipynb#Intialization-from-lists-and-dictionaries)"
      ]
    },
    {
      "metadata": {
        "id": "B7FOM93NBFfg",
        "colab_type": "text"
      },
      "cell_type": "markdown",
      "source": [
        "we can check the shape of the `DataFrame`"
      ]
    },
    {
      "metadata": {
        "id": "zzGN-lzrBFfg",
        "colab_type": "code",
        "colab": {},
        "outputId": "b1e29256-0866-4ecc-b006-8aaa43047597"
      },
      "cell_type": "code",
      "source": [
        "df.shape"
      ],
      "execution_count": 0,
      "outputs": [
        {
          "output_type": "execute_result",
          "data": {
            "text/plain": [
              "(5, 2)"
            ]
          },
          "metadata": {
            "tags": []
          },
          "execution_count": 102
        }
      ]
    },
    {
      "metadata": {
        "id": "MB-oGDTcBFfk",
        "colab_type": "text"
      },
      "cell_type": "markdown",
      "source": [
        "###  Export DataFrame to other formats\n",
        "* To export to excel:"
      ]
    },
    {
      "metadata": {
        "id": "29l2zdbcBFfl",
        "colab_type": "code",
        "colab": {}
      },
      "cell_type": "code",
      "source": [
        "df.to_excel('example.xlsx')"
      ],
      "execution_count": 0,
      "outputs": []
    },
    {
      "metadata": {
        "id": "Mtptb_7ZBFfo",
        "colab_type": "text"
      },
      "cell_type": "markdown",
      "source": [
        "It is possible to export also to `csv`, `txt`, etc."
      ]
    },
    {
      "metadata": {
        "id": "l8zSAIyABFfp",
        "colab_type": "text"
      },
      "cell_type": "markdown",
      "source": [
        "## Series"
      ]
    },
    {
      "metadata": {
        "id": "L0HvPIA_BFfq",
        "colab_type": "text"
      },
      "cell_type": "markdown",
      "source": [
        "Each column of the DataFrame is now an augmented dictionary called `Series`, with the indices as the keys of the `Series`"
      ]
    },
    {
      "metadata": {
        "id": "mjHv4cDUBFfq",
        "colab_type": "code",
        "colab": {},
        "outputId": "0f423aea-bd24-43ad-d221-cd8a25465c6c"
      },
      "cell_type": "code",
      "source": [
        "type( df['even'] )"
      ],
      "execution_count": 0,
      "outputs": [
        {
          "output_type": "execute_result",
          "data": {
            "text/plain": [
              "pandas.core.series.Series"
            ]
          },
          "metadata": {
            "tags": []
          },
          "execution_count": 18
        }
      ]
    },
    {
      "metadata": {
        "id": "YW5YMif8BFfv",
        "colab_type": "code",
        "colab": {},
        "outputId": "42801585-62cf-4a2a-ecd3-66b54cdcdac1"
      },
      "cell_type": "code",
      "source": [
        "df.even[3]"
      ],
      "execution_count": 0,
      "outputs": [
        {
          "output_type": "execute_result",
          "data": {
            "text/plain": [
              "6"
            ]
          },
          "metadata": {
            "tags": []
          },
          "execution_count": 20
        }
      ]
    },
    {
      "metadata": {
        "id": "qV5UQGcWBFf3",
        "colab_type": "text"
      },
      "cell_type": "markdown",
      "source": [
        "Note that the key name can be used also as an attribute.\n",
        "\n",
        "> The __power__ of Pandas rely in that their main data structures: `DataFrames` and `Series`, are enriched with many useful methods and attributes.\n",
        "\n",
        "### [Official definition of Pandas](http://pandas.pydata.org/pandas-docs/stable/)\n",
        "\n",
        "> Pandas is a Python package providing __fast__, __flexible__, and __expressive__ _data structures_ designed to make working with “relational” or “labeled” data both easy and intuitive. It aims to be the fundamental high-level building block for doing practical, real world data analysis in Python. Additionally, it _has the broader goal of becoming the most powerful and flexible open source data analysis / manipulation tool_ available in any language. It is already well on its way toward this goal.\n",
        "\n",
        "* \"relational\": the list of data is identified with some unique index (like a `SQL` table)\n",
        "* \"labeled\": the list is identified with a key, like the previous `odd` or `even` keys.\n",
        "\n",
        "\n",
        "\n",
        "### Recommend textbook\n",
        "A good and practice book about `Pandas` possibilities is:\n",
        "\n",
        "[__Python for Data Analysis__](https://drive.google.com/open?id=0BxoOXsn2EUNIWExXbVc4SDN0YTQ)<br/>\n",
        "Data Wrangling with Pandas, NumPy, and IPython<br/>\n",
        "_By William McKinney_"
      ]
    },
    {
      "metadata": {
        "heading_collapsed": true,
        "id": "SHS_m1QpBFf3",
        "colab_type": "text"
      },
      "cell_type": "markdown",
      "source": [
        "## Standard way to load the module"
      ]
    },
    {
      "metadata": {
        "hidden": true,
        "id": "kjWkU-A1BFf4",
        "colab_type": "code",
        "colab": {}
      },
      "cell_type": "code",
      "source": [
        "import pandas as pd"
      ],
      "execution_count": 0,
      "outputs": []
    },
    {
      "metadata": {
        "id": "2keP1YRMBFf5",
        "colab_type": "text"
      },
      "cell_type": "markdown",
      "source": [
        "## Data structures"
      ]
    },
    {
      "metadata": {
        "id": "8OO1C3hHBFf6",
        "colab_type": "text"
      },
      "cell_type": "markdown",
      "source": [
        "`Pandas` has two new data structures:\n",
        "* `Series` which are similar to dictionaries\n",
        "* `DataFrame` which are similar to dictionary lists."
      ]
    },
    {
      "metadata": {
        "id": "awqgXo-zBFf6",
        "colab_type": "text"
      },
      "cell_type": "markdown",
      "source": [
        "### DataFrame\n",
        "A row in a two-dimensional `DataFrame` corresponds to `Series` with the same keys of the `DataFrame`, but with single values instead of a list "
      ]
    },
    {
      "metadata": {
        "id": "gXcya1pXBFf7",
        "colab_type": "code",
        "colab": {},
        "outputId": "4f5d2502-9a90-4c0a-efd2-82c0a2b79ce5"
      },
      "cell_type": "code",
      "source": [
        "df.loc[[0]]"
      ],
      "execution_count": 0,
      "outputs": [
        {
          "output_type": "execute_result",
          "data": {
            "text/html": [
              "<div>\n",
              "<table border=\"1\" class=\"dataframe\">\n",
              "  <thead>\n",
              "    <tr style=\"text-align: right;\">\n",
              "      <th></th>\n",
              "      <th>even</th>\n",
              "      <th>odd</th>\n",
              "    </tr>\n",
              "  </thead>\n",
              "  <tbody>\n",
              "    <tr>\n",
              "      <th>0</th>\n",
              "      <td>0</td>\n",
              "      <td>1</td>\n",
              "    </tr>\n",
              "  </tbody>\n",
              "</table>\n",
              "</div>"
            ],
            "text/plain": [
              "   even  odd\n",
              "0     0    1"
            ]
          },
          "metadata": {
            "tags": []
          },
          "execution_count": 53
        }
      ]
    },
    {
      "metadata": {
        "id": "n3YJYXXCBFf9",
        "colab_type": "code",
        "colab": {},
        "outputId": "dda8f5ee-4320-4f01-b893-0aa962f7734e"
      },
      "cell_type": "code",
      "source": [
        "df.loc[[0]].values"
      ],
      "execution_count": 0,
      "outputs": [
        {
          "output_type": "execute_result",
          "data": {
            "text/plain": [
              "array([[0, 1]])"
            ]
          },
          "metadata": {
            "tags": []
          },
          "execution_count": 54
        }
      ]
    },
    {
      "metadata": {
        "id": "SPk3iCXEBFf_",
        "colab_type": "code",
        "colab": {},
        "outputId": "b2926679-b67d-40c9-ddca-85bb218b4f30"
      },
      "cell_type": "code",
      "source": [
        "print( 'the row has' )\n",
        "print( '                  keys: {} and values: {}'.format( list( df.loc[[0]].keys() ),df.loc[[0]].values[0]  ) )\n",
        "print( \"like the dictionay:\" )\n",
        "print( \"                      { 'even' : 0, 'odd' : 1 }\")"
      ],
      "execution_count": 0,
      "outputs": [
        {
          "output_type": "stream",
          "text": [
            "the row has\n",
            "                  keys: ['even', 'odd'] and values: [0 1]\n",
            "like the dictionay:\n",
            "                      { 'even' : 0, 'odd' : 1 }\n"
          ],
          "name": "stdout"
        }
      ]
    },
    {
      "metadata": {
        "id": "BYNriyb7BFgC",
        "colab_type": "text"
      },
      "cell_type": "markdown",
      "source": [
        "while the columns are dictionary with the indeces as the keys. \n",
        "\n",
        "An example of a  `DataFrame` is a spreadsheet."
      ]
    },
    {
      "metadata": {
        "id": "CZU9VSYtBFgC",
        "colab_type": "code",
        "colab": {},
        "outputId": "31932dc2-7b12-4767-a962-cae9b0ed1c06"
      },
      "cell_type": "code",
      "source": [
        "df[['even']]"
      ],
      "execution_count": 0,
      "outputs": [
        {
          "output_type": "execute_result",
          "data": {
            "text/html": [
              "<div>\n",
              "<table border=\"1\" class=\"dataframe\">\n",
              "  <thead>\n",
              "    <tr style=\"text-align: right;\">\n",
              "      <th></th>\n",
              "      <th>even</th>\n",
              "    </tr>\n",
              "  </thead>\n",
              "  <tbody>\n",
              "    <tr>\n",
              "      <th>0</th>\n",
              "      <td>0</td>\n",
              "    </tr>\n",
              "    <tr>\n",
              "      <th>1</th>\n",
              "      <td>2</td>\n",
              "    </tr>\n",
              "    <tr>\n",
              "      <th>2</th>\n",
              "      <td>4</td>\n",
              "    </tr>\n",
              "    <tr>\n",
              "      <th>3</th>\n",
              "      <td>6</td>\n",
              "    </tr>\n",
              "    <tr>\n",
              "      <th>4</th>\n",
              "      <td>8</td>\n",
              "    </tr>\n",
              "  </tbody>\n",
              "</table>\n",
              "</div>"
            ],
            "text/plain": [
              "   even\n",
              "0     0\n",
              "1     2\n",
              "2     4\n",
              "3     6\n",
              "4     8"
            ]
          },
          "metadata": {
            "tags": []
          },
          "execution_count": 56
        }
      ]
    },
    {
      "metadata": {
        "id": "gn0JdACPBFgG",
        "colab_type": "code",
        "colab": {},
        "outputId": "2bd37fed-f11b-47bd-c6d5-135607d401a0"
      },
      "cell_type": "code",
      "source": [
        "print( 'the column even has' )\n",
        "print( '                  keys: {} and values: {}'.format( list( df.even.keys() ),df.even.values  ) )\n",
        "print( \"like the dictionay:\" )\n",
        "print( \"                      { 0 : 0, 1 : 2, 2 : 4, 3 : 6, 4 : 8 }\")"
      ],
      "execution_count": 0,
      "outputs": [
        {
          "output_type": "stream",
          "text": [
            "the column even has\n",
            "                  keys: [0, 1, 2, 3, 4] and values: [0 2 4 6 8]\n",
            "like the dictionay:\n",
            "                      { 0 : 0, 1 : 2, 2 : 4, 3 : 6, 4 : 8 }\n"
          ],
          "name": "stdout"
        }
      ]
    },
    {
      "metadata": {
        "id": "XUnx0wEDBFgI",
        "colab_type": "text"
      },
      "cell_type": "markdown",
      "source": [
        "### `Series`"
      ]
    },
    {
      "metadata": {
        "id": "2bElUineBFgJ",
        "colab_type": "text"
      },
      "cell_type": "markdown",
      "source": [
        "A `Pandas` `Series` object can be just initialized from a `Python` dictionary:"
      ]
    },
    {
      "metadata": {
        "id": "VV72uXydBFgJ",
        "colab_type": "code",
        "colab": {},
        "outputId": "560b0592-1032-451c-a1c5-d060edbf7e9e"
      },
      "cell_type": "code",
      "source": [
        "s=pd.Series({'Name':'Juan Valdez','Nacionality':'Colombia','Age':23})\n",
        "s"
      ],
      "execution_count": 0,
      "outputs": [
        {
          "output_type": "execute_result",
          "data": {
            "text/plain": [
              "Age                     23\n",
              "Nacionality       Colombia\n",
              "Name           Juan Valdez\n",
              "dtype: object"
            ]
          },
          "metadata": {
            "tags": []
          },
          "execution_count": 34
        }
      ]
    },
    {
      "metadata": {
        "id": "6FSUfKo7BFgL",
        "colab_type": "text"
      },
      "cell_type": "markdown",
      "source": [
        "and can be used as such dictionaries"
      ]
    },
    {
      "metadata": {
        "id": "7kpAOJTEBFgM",
        "colab_type": "code",
        "colab": {},
        "outputId": "cec6a584-eb97-4c43-9631-19c93d951f62"
      },
      "cell_type": "code",
      "source": [
        "s['Name']"
      ],
      "execution_count": 0,
      "outputs": [
        {
          "output_type": "execute_result",
          "data": {
            "text/plain": [
              "'Juan Valdez'"
            ]
          },
          "metadata": {
            "tags": []
          },
          "execution_count": 35
        }
      ]
    },
    {
      "metadata": {
        "id": "KyVLdbynBFgN",
        "colab_type": "text"
      },
      "cell_type": "markdown",
      "source": [
        "but also as containers of name spaces!"
      ]
    },
    {
      "metadata": {
        "id": "4MUNAaP0BFgO",
        "colab_type": "code",
        "colab": {},
        "outputId": "927ff3f3-38b3-4880-82ab-b127bcff16a3"
      },
      "cell_type": "code",
      "source": [
        "s.Name"
      ],
      "execution_count": 0,
      "outputs": [
        {
          "output_type": "execute_result",
          "data": {
            "text/plain": [
              "'Juan Valdez'"
            ]
          },
          "metadata": {
            "tags": []
          },
          "execution_count": 36
        }
      ]
    },
    {
      "metadata": {
        "id": "cUyQRfVwBFgR",
        "colab_type": "text"
      },
      "cell_type": "markdown",
      "source": [
        "## `DataFrame` Initialization"
      ]
    },
    {
      "metadata": {
        "id": "jF3WZtSwBFgR",
        "colab_type": "text"
      },
      "cell_type": "markdown",
      "source": [
        "### Initization from an existing spreadsheet. \n",
        "This can be locally in your computer o from some downloadable  link"
      ]
    },
    {
      "metadata": {
        "id": "Z8KOzZ07BFgS",
        "colab_type": "code",
        "colab": {},
        "outputId": "060393e3-85ee-41fd-e492-5c10c78bae88"
      },
      "cell_type": "code",
      "source": [
        "df=pd.read_excel('http://bit.ly/spreadsheet_xlsx')\n",
        "df"
      ],
      "execution_count": 0,
      "outputs": [
        {
          "output_type": "execute_result",
          "data": {
            "text/html": [
              "<div>\n",
              "<table border=\"1\" class=\"dataframe\">\n",
              "  <thead>\n",
              "    <tr style=\"text-align: right;\">\n",
              "      <th></th>\n",
              "      <th>Nombre</th>\n",
              "      <th>Edad</th>\n",
              "      <th>Compañia</th>\n",
              "    </tr>\n",
              "  </thead>\n",
              "  <tbody>\n",
              "    <tr>\n",
              "      <th>0</th>\n",
              "      <td>Juan Valdez</td>\n",
              "      <td>23</td>\n",
              "      <td>Café de Colombia</td>\n",
              "    </tr>\n",
              "    <tr>\n",
              "      <th>1</th>\n",
              "      <td>Álvaro Uribe Vélez</td>\n",
              "      <td>65</td>\n",
              "      <td>Senado de la República</td>\n",
              "    </tr>\n",
              "  </tbody>\n",
              "</table>\n",
              "</div>"
            ],
            "text/plain": [
              "               Nombre  Edad                Compañia\n",
              "0         Juan Valdez    23        Café de Colombia\n",
              "1  Álvaro Uribe Vélez    65  Senado de la República"
            ]
          },
          "metadata": {
            "tags": []
          },
          "execution_count": 60
        }
      ]
    },
    {
      "metadata": {
        "id": "w6LUFFJeBFgT",
        "colab_type": "text"
      },
      "cell_type": "markdown",
      "source": [
        "To make a downloadable link for any spread sheet in Google Drive, follow the sequence:\n",
        "```\n",
        "File → Publish to the web...→ Entire Document → Web page → Microsoft excel (xlsx)\n",
        "```\n",
        "as illustrated in the figure:\n",
        "![GS](https://github.com/restrepo/data-analysis/blob/master/img/img1.png?raw=1)"
      ]
    },
    {
      "metadata": {
        "id": "aUsGh4peBFgU",
        "colab_type": "text"
      },
      "cell_type": "markdown",
      "source": [
        "After some modification"
      ]
    },
    {
      "metadata": {
        "id": "J2m33zT0BFgU",
        "colab_type": "code",
        "colab": {},
        "outputId": "4f6efa71-3ce7-4b1c-ef69-59658e6564b0"
      },
      "cell_type": "code",
      "source": [
        "df.loc[0,'Edad']=32\n",
        "df"
      ],
      "execution_count": 0,
      "outputs": [
        {
          "output_type": "execute_result",
          "data": {
            "text/html": [
              "<div>\n",
              "<table border=\"1\" class=\"dataframe\">\n",
              "  <thead>\n",
              "    <tr style=\"text-align: right;\">\n",
              "      <th></th>\n",
              "      <th>Nombre</th>\n",
              "      <th>Edad</th>\n",
              "      <th>Compañia</th>\n",
              "    </tr>\n",
              "  </thead>\n",
              "  <tbody>\n",
              "    <tr>\n",
              "      <th>0</th>\n",
              "      <td>Juan Valdez</td>\n",
              "      <td>32</td>\n",
              "      <td>Café de Colombia</td>\n",
              "    </tr>\n",
              "    <tr>\n",
              "      <th>1</th>\n",
              "      <td>Álvaro Uribe Vélez</td>\n",
              "      <td>65</td>\n",
              "      <td>Senado de la República</td>\n",
              "    </tr>\n",
              "  </tbody>\n",
              "</table>\n",
              "</div>"
            ],
            "text/plain": [
              "               Nombre  Edad                Compañia\n",
              "0         Juan Valdez    32        Café de Colombia\n",
              "1  Álvaro Uribe Vélez    65  Senado de la República"
            ]
          },
          "metadata": {
            "tags": []
          },
          "execution_count": 64
        }
      ]
    },
    {
      "metadata": {
        "id": "YcvkWCP5BFgX",
        "colab_type": "text"
      },
      "cell_type": "markdown",
      "source": [
        "it can be saved again as an `excel file` with the option to not create a column of indices: `index=False`"
      ]
    },
    {
      "metadata": {
        "id": "88KpKSfwBFgY",
        "colab_type": "code",
        "colab": {}
      },
      "cell_type": "code",
      "source": [
        "df.to_excel('personajes.xlsx',index=False)"
      ],
      "execution_count": 0,
      "outputs": []
    },
    {
      "metadata": {
        "id": "CN3sl4ddBFga",
        "colab_type": "text"
      },
      "cell_type": "markdown",
      "source": [
        "__Activity__: Adter the previous execution, load the file `personajes.xlsx`"
      ]
    },
    {
      "metadata": {
        "id": "r00q72F-BFga",
        "colab_type": "text"
      },
      "cell_type": "markdown",
      "source": [
        "### Intialization from lists and dictionaries"
      ]
    },
    {
      "metadata": {
        "id": "FSC_vcnZBFgb",
        "colab_type": "text"
      },
      "cell_type": "markdown",
      "source": [
        "Creating Pandas DataFrame from list and dictionaries [offers many alternatives](http://pbpython.com/pandas-list-dict.html)\n",
        "\n",
        "![creating dataframes](http://pbpython.com/images/pandas-dataframe-shadow.png)\n",
        "\n",
        "### Row oriented way\n",
        "* In addition to the dictionary of lists [already illustrated at the beginning]() that in this case corresponds to:"
      ]
    },
    {
      "metadata": {
        "id": "SaMF0t8OBFgb",
        "colab_type": "code",
        "colab": {},
        "outputId": "d2dff37d-0f81-4607-9fa9-120eb1ee057b"
      },
      "cell_type": "code",
      "source": [
        "pd.DataFrame({'Nombre'   : ['Juan Valdez','Álvaro Uribe Vélez'],\n",
        "              'Edad'     : [32,            65                 ],\n",
        "              'Compañia' : ['Café de Colombia','Senado de la República']})"
      ],
      "execution_count": 0,
      "outputs": [
        {
          "output_type": "execute_result",
          "data": {
            "text/html": [
              "<div>\n",
              "<table border=\"1\" class=\"dataframe\">\n",
              "  <thead>\n",
              "    <tr style=\"text-align: right;\">\n",
              "      <th></th>\n",
              "      <th>Compañia</th>\n",
              "      <th>Edad</th>\n",
              "      <th>Nombre</th>\n",
              "    </tr>\n",
              "  </thead>\n",
              "  <tbody>\n",
              "    <tr>\n",
              "      <th>0</th>\n",
              "      <td>Café de Colombia</td>\n",
              "      <td>32</td>\n",
              "      <td>Juan Valdez</td>\n",
              "    </tr>\n",
              "    <tr>\n",
              "      <th>1</th>\n",
              "      <td>Senado de la República</td>\n",
              "      <td>65</td>\n",
              "      <td>Álvaro Uribe Vélez</td>\n",
              "    </tr>\n",
              "  </tbody>\n",
              "</table>\n",
              "</div>"
            ],
            "text/plain": [
              "                 Compañia  Edad              Nombre\n",
              "0        Café de Colombia    32         Juan Valdez\n",
              "1  Senado de la República    65  Álvaro Uribe Vélez"
            ]
          },
          "metadata": {
            "tags": []
          },
          "execution_count": 174
        }
      ]
    },
    {
      "metadata": {
        "id": "kynpllqDBFge",
        "colab_type": "text"
      },
      "cell_type": "markdown",
      "source": [
        "* We can obtain the DataFrame from list of items"
      ]
    },
    {
      "metadata": {
        "id": "rjfDlxjZBFgf",
        "colab_type": "code",
        "colab": {},
        "outputId": "ab298aa8-4a82-4fc1-9ec9-32c0493cce03"
      },
      "cell_type": "code",
      "source": [
        "pd.DataFrame.from_items([ [ 'Nombre'  , ['Juan Valdez','Álvaro Uribe Vélez']],\n",
        "                          [ 'Edad'    , [  32,            65               ]],\n",
        "                          [ 'Compañia', ['Café de Colombia','Senado de la República']] ])"
      ],
      "execution_count": 0,
      "outputs": [
        {
          "output_type": "execute_result",
          "data": {
            "text/html": [
              "<div>\n",
              "<table border=\"1\" class=\"dataframe\">\n",
              "  <thead>\n",
              "    <tr style=\"text-align: right;\">\n",
              "      <th></th>\n",
              "      <th>Nombre</th>\n",
              "      <th>Edad</th>\n",
              "      <th>Compañia</th>\n",
              "    </tr>\n",
              "  </thead>\n",
              "  <tbody>\n",
              "    <tr>\n",
              "      <th>0</th>\n",
              "      <td>Juan Valdez</td>\n",
              "      <td>32</td>\n",
              "      <td>Café de Colombia</td>\n",
              "    </tr>\n",
              "    <tr>\n",
              "      <th>1</th>\n",
              "      <td>Álvaro Uribe Vélez</td>\n",
              "      <td>65</td>\n",
              "      <td>Senado de la República</td>\n",
              "    </tr>\n",
              "  </tbody>\n",
              "</table>\n",
              "</div>"
            ],
            "text/plain": [
              "               Nombre  Edad                Compañia\n",
              "0         Juan Valdez    32        Café de Colombia\n",
              "1  Álvaro Uribe Vélez    65  Senado de la República"
            ]
          },
          "metadata": {
            "tags": []
          },
          "execution_count": 175
        }
      ]
    },
    {
      "metadata": {
        "id": "CrbT7mTSBFgg",
        "colab_type": "text"
      },
      "cell_type": "markdown",
      "source": [
        "* We can obtain the DataFrama from dictionary"
      ]
    },
    {
      "metadata": {
        "id": "amO5t31jBFgh",
        "colab_type": "code",
        "colab": {},
        "outputId": "bf3c03ba-66cd-4ae3-dd44-b44df4afef20"
      },
      "cell_type": "code",
      "source": [
        "pd.DataFrame( {'Nombre':'Juan Valdez',        'Edad': 32   ,'Compañia':'Café de Colombia'      },\n",
        "              {'Nombre':'Álvaro Uribe Vélez', 'Edad': 65   ,'Compañia':'Senado de la República'}\n",
        "            )"
      ],
      "execution_count": 0,
      "outputs": [
        {
          "output_type": "execute_result",
          "data": {
            "text/html": [
              "<div>\n",
              "<table border=\"1\" class=\"dataframe\">\n",
              "  <thead>\n",
              "    <tr style=\"text-align: right;\">\n",
              "      <th></th>\n",
              "      <th>Compañia</th>\n",
              "      <th>Edad</th>\n",
              "      <th>Nombre</th>\n",
              "    </tr>\n",
              "  </thead>\n",
              "  <tbody>\n",
              "    <tr>\n",
              "      <th>Nombre</th>\n",
              "      <td>Café de Colombia</td>\n",
              "      <td>32</td>\n",
              "      <td>Juan Valdez</td>\n",
              "    </tr>\n",
              "    <tr>\n",
              "      <th>Compañia</th>\n",
              "      <td>Café de Colombia</td>\n",
              "      <td>32</td>\n",
              "      <td>Juan Valdez</td>\n",
              "    </tr>\n",
              "    <tr>\n",
              "      <th>Edad</th>\n",
              "      <td>Café de Colombia</td>\n",
              "      <td>32</td>\n",
              "      <td>Juan Valdez</td>\n",
              "    </tr>\n",
              "  </tbody>\n",
              "</table>\n",
              "</div>"
            ],
            "text/plain": [
              "                  Compañia  Edad       Nombre\n",
              "Nombre    Café de Colombia    32  Juan Valdez\n",
              "Compañia  Café de Colombia    32  Juan Valdez\n",
              "Edad      Café de Colombia    32  Juan Valdez"
            ]
          },
          "metadata": {
            "tags": []
          },
          "execution_count": 173
        }
      ]
    },
    {
      "metadata": {
        "id": "T8z-pjSABFgi",
        "colab_type": "text"
      },
      "cell_type": "markdown",
      "source": [
        "* We can obtain the DataFrama from matrix with the columns specified in an extra list"
      ]
    },
    {
      "metadata": {
        "id": "6lruIhi5BFgj",
        "colab_type": "code",
        "colab": {},
        "outputId": "f40af2f2-95cd-4a32-8dea-94100dc078ae"
      },
      "cell_type": "code",
      "source": [
        "pd.DataFrame( [['Juan Valdez',         32   , 'Café de Colombia'      ],\n",
        "               ['Álvaro Uribe Vélez',  65   , 'Senado de la República']],columns= \n",
        "               [ 'Nombre'          , 'Edad',   'Compañia'             ]\n",
        "            )"
      ],
      "execution_count": 0,
      "outputs": [
        {
          "output_type": "execute_result",
          "data": {
            "text/html": [
              "<div>\n",
              "<table border=\"1\" class=\"dataframe\">\n",
              "  <thead>\n",
              "    <tr style=\"text-align: right;\">\n",
              "      <th></th>\n",
              "      <th>Nombre</th>\n",
              "      <th>Edad</th>\n",
              "      <th>Compañia</th>\n",
              "    </tr>\n",
              "  </thead>\n",
              "  <tbody>\n",
              "    <tr>\n",
              "      <th>0</th>\n",
              "      <td>Juan Valdez</td>\n",
              "      <td>32</td>\n",
              "      <td>Café de Colombia</td>\n",
              "    </tr>\n",
              "    <tr>\n",
              "      <th>1</th>\n",
              "      <td>Álvaro Uribe Vélez</td>\n",
              "      <td>65</td>\n",
              "      <td>Senado de la República</td>\n",
              "    </tr>\n",
              "  </tbody>\n",
              "</table>\n",
              "</div>"
            ],
            "text/plain": [
              "               Nombre  Edad                Compañia\n",
              "0         Juan Valdez    32        Café de Colombia\n",
              "1  Álvaro Uribe Vélez    65  Senado de la República"
            ]
          },
          "metadata": {
            "tags": []
          },
          "execution_count": 172
        }
      ]
    },
    {
      "metadata": {
        "id": "tvoiC111BFgk",
        "colab_type": "text"
      },
      "cell_type": "markdown",
      "source": [
        "### Row oriented way\n",
        "* From a dictionary with the column names as keys and a single value for each one. Each dictionary corresponds to a row of the DataFrame"
      ]
    },
    {
      "metadata": {
        "id": "wx4ye4fTBFgk",
        "colab_type": "text"
      },
      "cell_type": "markdown",
      "source": [
        "### Initialization from sequential rows as  Series\n",
        "We start with an empty `DataFrame`:"
      ]
    },
    {
      "metadata": {
        "id": "vc7kQL4wBFgl",
        "colab_type": "code",
        "colab": {},
        "outputId": "5309bb08-efc7-429b-ccfe-140bf77eda3a"
      },
      "cell_type": "code",
      "source": [
        "df=pd.DataFrame()\n",
        "df"
      ],
      "execution_count": 0,
      "outputs": [
        {
          "output_type": "execute_result",
          "data": {
            "text/html": [
              "<div>\n",
              "<table border=\"1\" class=\"dataframe\">\n",
              "  <thead>\n",
              "    <tr style=\"text-align: right;\">\n",
              "      <th></th>\n",
              "    </tr>\n",
              "  </thead>\n",
              "  <tbody>\n",
              "  </tbody>\n",
              "</table>\n",
              "</div>"
            ],
            "text/plain": [
              "Empty DataFrame\n",
              "Columns: []\n",
              "Index: []"
            ]
          },
          "metadata": {
            "tags": []
          },
          "execution_count": 37
        }
      ]
    },
    {
      "metadata": {
        "id": "Hez0SRBHBFgm",
        "colab_type": "text"
      },
      "cell_type": "markdown",
      "source": [
        "We can append a `Series` as a row of the `DataFrame`, provided that we always use the option: `ignore_index=True`"
      ]
    },
    {
      "metadata": {
        "id": "WaAfHvmGBFgn",
        "colab_type": "code",
        "colab": {},
        "outputId": "d3aab5b3-6974-4b49-9f93-d3bbbc6aaf99"
      },
      "cell_type": "code",
      "source": [
        "df=df.append(s,ignore_index=True)\n",
        "df"
      ],
      "execution_count": 0,
      "outputs": [
        {
          "output_type": "execute_result",
          "data": {
            "text/html": [
              "<div>\n",
              "<table border=\"1\" class=\"dataframe\">\n",
              "  <thead>\n",
              "    <tr style=\"text-align: right;\">\n",
              "      <th></th>\n",
              "      <th>Age</th>\n",
              "      <th>Nacionality</th>\n",
              "      <th>Name</th>\n",
              "    </tr>\n",
              "  </thead>\n",
              "  <tbody>\n",
              "    <tr>\n",
              "      <th>0</th>\n",
              "      <td>23.0</td>\n",
              "      <td>Colombia</td>\n",
              "      <td>Juan Valdez</td>\n",
              "    </tr>\n",
              "  </tbody>\n",
              "</table>\n",
              "</div>"
            ],
            "text/plain": [
              "    Age Nacionality         Name\n",
              "0  23.0    Colombia  Juan Valdez"
            ]
          },
          "metadata": {
            "tags": []
          },
          "execution_count": 38
        }
      ]
    },
    {
      "metadata": {
        "id": "a7ATqU3EBFgo",
        "colab_type": "text"
      },
      "cell_type": "markdown",
      "source": [
        "We can fix the type of data of the `'Age'` column"
      ]
    },
    {
      "metadata": {
        "id": "69qcq6tfBFgp",
        "colab_type": "code",
        "colab": {},
        "outputId": "cd3b78d5-007a-4236-cda4-fe60df7656c4"
      },
      "cell_type": "code",
      "source": [
        "type(df.Age)"
      ],
      "execution_count": 0,
      "outputs": [
        {
          "output_type": "execute_result",
          "data": {
            "text/plain": [
              "pandas.core.series.Series"
            ]
          },
          "metadata": {
            "tags": []
          },
          "execution_count": 7
        }
      ]
    },
    {
      "metadata": {
        "id": "NGFZvd__BFgr",
        "colab_type": "code",
        "colab": {},
        "outputId": "ff16bebe-974a-47e0-e918-7b8586772caa"
      },
      "cell_type": "code",
      "source": [
        "df['Age']=df.Age.astype(int)\n",
        "df"
      ],
      "execution_count": 0,
      "outputs": [
        {
          "output_type": "execute_result",
          "data": {
            "text/html": [
              "<div>\n",
              "<table border=\"1\" class=\"dataframe\">\n",
              "  <thead>\n",
              "    <tr style=\"text-align: right;\">\n",
              "      <th></th>\n",
              "      <th>Age</th>\n",
              "      <th>Nacionality</th>\n",
              "      <th>Name</th>\n",
              "    </tr>\n",
              "  </thead>\n",
              "  <tbody>\n",
              "    <tr>\n",
              "      <th>0</th>\n",
              "      <td>23</td>\n",
              "      <td>Colombia</td>\n",
              "      <td>Juan Valdez</td>\n",
              "    </tr>\n",
              "  </tbody>\n",
              "</table>\n",
              "</div>"
            ],
            "text/plain": [
              "   Age Nacionality         Name\n",
              "0   23    Colombia  Juan Valdez"
            ]
          },
          "metadata": {
            "tags": []
          },
          "execution_count": 8
        }
      ]
    },
    {
      "metadata": {
        "id": "lhi-cAfBBFgt",
        "colab_type": "text"
      },
      "cell_type": "markdown",
      "source": [
        "To add a second row we can build another `Series`\n",
        "__Activity__: Fill the fields to be generated after the execution of the next cell, and make the __Exercises__"
      ]
    },
    {
      "metadata": {
        "id": "_TnjVEGzBFgt",
        "colab_type": "code",
        "colab": {}
      },
      "cell_type": "code",
      "source": [
        "s=pd.Series()\n",
        "for k in ['Name','Nacionality','Age','Company']:\n",
        "    var=input('{}:\\n'.format(k))\n",
        "    s[k]=var"
      ],
      "execution_count": 0,
      "outputs": []
    },
    {
      "metadata": {
        "id": "Ia6deVw1BFgx",
        "colab_type": "text"
      },
      "cell_type": "markdown",
      "source": [
        "#### Exercises\n",
        "* Display the resulting `Series` in the screen:"
      ]
    },
    {
      "metadata": {
        "collapsed": true,
        "id": "hWII7R4DBFgx",
        "colab_type": "code",
        "colab": {}
      },
      "cell_type": "code",
      "source": [
        ""
      ],
      "execution_count": 0,
      "outputs": []
    },
    {
      "metadata": {
        "id": "KGFzicmkBFgz",
        "colab_type": "text"
      },
      "cell_type": "markdown",
      "source": [
        "* Append to the previous `DataFrame` y visualizarlo:"
      ]
    },
    {
      "metadata": {
        "collapsed": true,
        "id": "9RSCfDOPBFgz",
        "colab_type": "code",
        "colab": {}
      },
      "cell_type": "code",
      "source": [
        ""
      ],
      "execution_count": 0,
      "outputs": []
    },
    {
      "metadata": {
        "id": "YIdZMs59BFg1",
        "colab_type": "text"
      },
      "cell_type": "markdown",
      "source": [
        "* Fill NaN with empty strings"
      ]
    },
    {
      "metadata": {
        "collapsed": true,
        "id": "tgItO0CpBFg2",
        "colab_type": "code",
        "colab": {}
      },
      "cell_type": "code",
      "source": [
        ""
      ],
      "execution_count": 0,
      "outputs": []
    },
    {
      "metadata": {
        "id": "z5bxkRZYBFg4",
        "colab_type": "text"
      },
      "cell_type": "markdown",
      "source": [
        "* Save `Pandas` `DataFrame` as an Excel file"
      ]
    },
    {
      "metadata": {
        "collapsed": true,
        "id": "WPX8qyLmBFg4",
        "colab_type": "code",
        "colab": {}
      },
      "cell_type": "code",
      "source": [
        ""
      ],
      "execution_count": 0,
      "outputs": []
    },
    {
      "metadata": {
        "id": "pYY-L3oXBFg6",
        "colab_type": "text"
      },
      "cell_type": "markdown",
      "source": [
        "* Load pandas DataFrame from the saved file in Excel"
      ]
    },
    {
      "metadata": {
        "id": "o0lVgTmABFg6",
        "colab_type": "text"
      },
      "cell_type": "markdown",
      "source": [
        "## Beyond excel\n",
        "The paradigm of dictionary of list is not well suited for excel. A list inside a dictionary is seen by excel as a string. \n",
        "\n",
        "It is however the core of the design of the `JSON` format, which preserver the types of variables inside the dictionaries!. In fact, this notebook itself is really a document in JSON format which can be seen before processing by jupyter  from [here](https://raw.githubusercontent.com/restrepo/data-analysis/master/Pandas.ipynb).\n",
        "\n",
        "The dictionary can be converted into a string "
      ]
    },
    {
      "metadata": {
        "id": "bRJB_wNjBFg6",
        "colab_type": "code",
        "colab": {}
      },
      "cell_type": "code",
      "source": [
        "import pandas as pd"
      ],
      "execution_count": 0,
      "outputs": []
    },
    {
      "metadata": {
        "id": "B1zR9JWBBFg7",
        "colab_type": "code",
        "colab": {}
      },
      "cell_type": "code",
      "source": [
        "numbers={\"even\": [0,2,4,6,8],   #  First  key-list\n",
        "         \"odd\" : [1,3,5,7,9] }  #  Second key-list"
      ],
      "execution_count": 0,
      "outputs": []
    },
    {
      "metadata": {
        "id": "lzuQSDq4BFg9",
        "colab_type": "code",
        "colab": {},
        "outputId": "081fe15d-962b-47af-a094-66dafc7bfe92"
      },
      "cell_type": "code",
      "source": [
        "str(numbers)"
      ],
      "execution_count": 0,
      "outputs": [
        {
          "output_type": "execute_result",
          "data": {
            "text/plain": [
              "\"{'odd': [1, 3, 5, 7, 9], 'even': [0, 2, 4, 6, 8]}\""
            ]
          },
          "metadata": {
            "tags": []
          },
          "execution_count": 2
        }
      ]
    },
    {
      "metadata": {
        "id": "oFR3eZN1BFhA",
        "colab_type": "text"
      },
      "cell_type": "markdown",
      "source": [
        "This string can be writing in the `JSON` format by replacing the single quotes, ' , by  duoble quotes, \":"
      ]
    },
    {
      "metadata": {
        "id": "0YK5C1bjBFhB",
        "colab_type": "code",
        "colab": {},
        "outputId": "9681d160-755b-4f25-e91d-4169f02aa4d1"
      },
      "cell_type": "code",
      "source": [
        "str(numbers).replace(\"'\",'\"')"
      ],
      "execution_count": 0,
      "outputs": [
        {
          "output_type": "execute_result",
          "data": {
            "text/plain": [
              "'{\"odd\": [1, 3, 5, 7, 9], \"even\": [0, 2, 4, 6, 8]}'"
            ]
          },
          "metadata": {
            "tags": []
          },
          "execution_count": 3
        }
      ]
    },
    {
      "metadata": {
        "id": "FO3EtGAXBFhC",
        "colab_type": "text"
      },
      "cell_type": "markdown",
      "source": [
        "This can be read from PANDAS as 'JSON' object:"
      ]
    },
    {
      "metadata": {
        "id": "biESA9PKBFhD",
        "colab_type": "code",
        "colab": {},
        "outputId": "77cfa791-77d8-43f2-d09b-7e54afb46d70"
      },
      "cell_type": "code",
      "source": [
        "pd.read_json(  str(numbers).replace(\"'\",'\"') )"
      ],
      "execution_count": 0,
      "outputs": [
        {
          "output_type": "execute_result",
          "data": {
            "text/html": [
              "<div>\n",
              "<table border=\"1\" class=\"dataframe\">\n",
              "  <thead>\n",
              "    <tr style=\"text-align: right;\">\n",
              "      <th></th>\n",
              "      <th>even</th>\n",
              "      <th>odd</th>\n",
              "    </tr>\n",
              "  </thead>\n",
              "  <tbody>\n",
              "    <tr>\n",
              "      <th>0</th>\n",
              "      <td>0</td>\n",
              "      <td>1</td>\n",
              "    </tr>\n",
              "    <tr>\n",
              "      <th>1</th>\n",
              "      <td>2</td>\n",
              "      <td>3</td>\n",
              "    </tr>\n",
              "    <tr>\n",
              "      <th>2</th>\n",
              "      <td>4</td>\n",
              "      <td>5</td>\n",
              "    </tr>\n",
              "    <tr>\n",
              "      <th>3</th>\n",
              "      <td>6</td>\n",
              "      <td>7</td>\n",
              "    </tr>\n",
              "    <tr>\n",
              "      <th>4</th>\n",
              "      <td>8</td>\n",
              "      <td>9</td>\n",
              "    </tr>\n",
              "  </tbody>\n",
              "</table>\n",
              "</div>"
            ],
            "text/plain": [
              "   even  odd\n",
              "0     0    1\n",
              "1     2    3\n",
              "2     4    5\n",
              "3     6    7\n",
              "4     8    9"
            ]
          },
          "metadata": {
            "tags": []
          },
          "execution_count": 6
        }
      ]
    },
    {
      "metadata": {
        "id": "O9f7DczTBFhF",
        "colab_type": "text"
      },
      "cell_type": "markdown",
      "source": [
        "### JSON\n",
        "There are really three kinds of web\n",
        "* the normal web, \n",
        "* the deep web,\n",
        "* _the machine web_. The web for machine readable responses. It is served in `JSON` or `XML`  formats, which preserve programming objects.\n",
        "\n",
        "For example the crossref includes an API to give the metada of a DOI. An example of  link for the machine web is the one for the DOI: 10.1103/PhysRevD.95.095034\n",
        "\n",
        "[https://api.crossref.org/works/10.1103/PhysRevD.95.095034](https://api.crossref.org/works/10.1103/PhysRevD.95.095034)\n",
        "\n",
        "For further examples see http://joelalway.blogspot.com/2019/04/uso-apis-crossref-revistas-doi.html"
      ]
    },
    {
      "metadata": {
        "id": "ry5okNQrBFhF",
        "colab_type": "code",
        "colab": {}
      },
      "cell_type": "code",
      "source": [
        "doi=pd.read_json( 'https://api.crossref.org/works/10.1103/PhysRevD.95.095034' )"
      ],
      "execution_count": 0,
      "outputs": []
    },
    {
      "metadata": {
        "id": "FilitDBqBFhH",
        "colab_type": "code",
        "colab": {},
        "outputId": "1db607f5-8e25-4f44-91db-60d9652b951c"
      },
      "cell_type": "code",
      "source": [
        "doi"
      ],
      "execution_count": 0,
      "outputs": [
        {
          "output_type": "execute_result",
          "data": {
            "text/html": [
              "<div>\n",
              "<table border=\"1\" class=\"dataframe\">\n",
              "  <thead>\n",
              "    <tr style=\"text-align: right;\">\n",
              "      <th></th>\n",
              "      <th>message</th>\n",
              "      <th>message-type</th>\n",
              "      <th>message-version</th>\n",
              "      <th>status</th>\n",
              "    </tr>\n",
              "  </thead>\n",
              "  <tbody>\n",
              "    <tr>\n",
              "      <th>DOI</th>\n",
              "      <td>10.1103/physrevd.95.095034</td>\n",
              "      <td>work</td>\n",
              "      <td>1.0.0</td>\n",
              "      <td>ok</td>\n",
              "    </tr>\n",
              "    <tr>\n",
              "      <th>ISSN</th>\n",
              "      <td>[2470-0010, 2470-0029]</td>\n",
              "      <td>work</td>\n",
              "      <td>1.0.0</td>\n",
              "      <td>ok</td>\n",
              "    </tr>\n",
              "    <tr>\n",
              "      <th>URL</th>\n",
              "      <td>http://dx.doi.org/10.1103/physrevd.95.095034</td>\n",
              "      <td>work</td>\n",
              "      <td>1.0.0</td>\n",
              "      <td>ok</td>\n",
              "    </tr>\n",
              "    <tr>\n",
              "      <th>article-number</th>\n",
              "      <td>095034</td>\n",
              "      <td>work</td>\n",
              "      <td>1.0.0</td>\n",
              "      <td>ok</td>\n",
              "    </tr>\n",
              "    <tr>\n",
              "      <th>author</th>\n",
              "      <td>[{'given': 'Carolina', 'family': 'Arbeláez', '...</td>\n",
              "      <td>work</td>\n",
              "      <td>1.0.0</td>\n",
              "      <td>ok</td>\n",
              "    </tr>\n",
              "    <tr>\n",
              "      <th>container-title</th>\n",
              "      <td>[Physical Review D]</td>\n",
              "      <td>work</td>\n",
              "      <td>1.0.0</td>\n",
              "      <td>ok</td>\n",
              "    </tr>\n",
              "    <tr>\n",
              "      <th>content-domain</th>\n",
              "      <td>{'domain': [], 'crossmark-restriction': False}</td>\n",
              "      <td>work</td>\n",
              "      <td>1.0.0</td>\n",
              "      <td>ok</td>\n",
              "    </tr>\n",
              "    <tr>\n",
              "      <th>created</th>\n",
              "      <td>{'timestamp': 1496282928000, 'date-time': '201...</td>\n",
              "      <td>work</td>\n",
              "      <td>1.0.0</td>\n",
              "      <td>ok</td>\n",
              "    </tr>\n",
              "    <tr>\n",
              "      <th>deposited</th>\n",
              "      <td>{'timestamp': 1496283034000, 'date-time': '201...</td>\n",
              "      <td>work</td>\n",
              "      <td>1.0.0</td>\n",
              "      <td>ok</td>\n",
              "    </tr>\n",
              "    <tr>\n",
              "      <th>funder</th>\n",
              "      <td>[{'doi-asserted-by': 'publisher', 'name': 'Com...</td>\n",
              "      <td>work</td>\n",
              "      <td>1.0.0</td>\n",
              "      <td>ok</td>\n",
              "    </tr>\n",
              "    <tr>\n",
              "      <th>indexed</th>\n",
              "      <td>{'timestamp': 1528186959506, 'date-time': '201...</td>\n",
              "      <td>work</td>\n",
              "      <td>1.0.0</td>\n",
              "      <td>ok</td>\n",
              "    </tr>\n",
              "    <tr>\n",
              "      <th>is-referenced-by-count</th>\n",
              "      <td>5</td>\n",
              "      <td>work</td>\n",
              "      <td>1.0.0</td>\n",
              "      <td>ok</td>\n",
              "    </tr>\n",
              "    <tr>\n",
              "      <th>issn-type</th>\n",
              "      <td>[{'type': 'print', 'value': '2470-0010'}, {'ty...</td>\n",
              "      <td>work</td>\n",
              "      <td>1.0.0</td>\n",
              "      <td>ok</td>\n",
              "    </tr>\n",
              "    <tr>\n",
              "      <th>issue</th>\n",
              "      <td>9</td>\n",
              "      <td>work</td>\n",
              "      <td>1.0.0</td>\n",
              "      <td>ok</td>\n",
              "    </tr>\n",
              "    <tr>\n",
              "      <th>issued</th>\n",
              "      <td>{'date-parts': [[2017, 5, 31]]}</td>\n",
              "      <td>work</td>\n",
              "      <td>1.0.0</td>\n",
              "      <td>ok</td>\n",
              "    </tr>\n",
              "    <tr>\n",
              "      <th>journal-issue</th>\n",
              "      <td>{'published-print': {'date-parts': [[2017, 5]]...</td>\n",
              "      <td>work</td>\n",
              "      <td>1.0.0</td>\n",
              "      <td>ok</td>\n",
              "    </tr>\n",
              "    <tr>\n",
              "      <th>language</th>\n",
              "      <td>en</td>\n",
              "      <td>work</td>\n",
              "      <td>1.0.0</td>\n",
              "      <td>ok</td>\n",
              "    </tr>\n",
              "    <tr>\n",
              "      <th>license</th>\n",
              "      <td>[{'delay-in-days': 0, 'URL': 'http://link.aps....</td>\n",
              "      <td>work</td>\n",
              "      <td>1.0.0</td>\n",
              "      <td>ok</td>\n",
              "    </tr>\n",
              "    <tr>\n",
              "      <th>link</th>\n",
              "      <td>[{'content-version': 'vor', 'URL': 'http://lin...</td>\n",
              "      <td>work</td>\n",
              "      <td>1.0.0</td>\n",
              "      <td>ok</td>\n",
              "    </tr>\n",
              "    <tr>\n",
              "      <th>member</th>\n",
              "      <td>16</td>\n",
              "      <td>work</td>\n",
              "      <td>1.0.0</td>\n",
              "      <td>ok</td>\n",
              "    </tr>\n",
              "    <tr>\n",
              "      <th>original-title</th>\n",
              "      <td>[]</td>\n",
              "      <td>work</td>\n",
              "      <td>1.0.0</td>\n",
              "      <td>ok</td>\n",
              "    </tr>\n",
              "    <tr>\n",
              "      <th>prefix</th>\n",
              "      <td>10.1103</td>\n",
              "      <td>work</td>\n",
              "      <td>1.0.0</td>\n",
              "      <td>ok</td>\n",
              "    </tr>\n",
              "    <tr>\n",
              "      <th>published-online</th>\n",
              "      <td>{'date-parts': [[2017, 5, 31]]}</td>\n",
              "      <td>work</td>\n",
              "      <td>1.0.0</td>\n",
              "      <td>ok</td>\n",
              "    </tr>\n",
              "    <tr>\n",
              "      <th>publisher</th>\n",
              "      <td>American Physical Society (APS)</td>\n",
              "      <td>work</td>\n",
              "      <td>1.0.0</td>\n",
              "      <td>ok</td>\n",
              "    </tr>\n",
              "    <tr>\n",
              "      <th>reference</th>\n",
              "      <td>[{'doi-asserted-by': 'publisher', 'key': 'Phys...</td>\n",
              "      <td>work</td>\n",
              "      <td>1.0.0</td>\n",
              "      <td>ok</td>\n",
              "    </tr>\n",
              "    <tr>\n",
              "      <th>reference-count</th>\n",
              "      <td>46</td>\n",
              "      <td>work</td>\n",
              "      <td>1.0.0</td>\n",
              "      <td>ok</td>\n",
              "    </tr>\n",
              "    <tr>\n",
              "      <th>references-count</th>\n",
              "      <td>46</td>\n",
              "      <td>work</td>\n",
              "      <td>1.0.0</td>\n",
              "      <td>ok</td>\n",
              "    </tr>\n",
              "    <tr>\n",
              "      <th>relation</th>\n",
              "      <td>{'cites': []}</td>\n",
              "      <td>work</td>\n",
              "      <td>1.0.0</td>\n",
              "      <td>ok</td>\n",
              "    </tr>\n",
              "    <tr>\n",
              "      <th>score</th>\n",
              "      <td>1</td>\n",
              "      <td>work</td>\n",
              "      <td>1.0.0</td>\n",
              "      <td>ok</td>\n",
              "    </tr>\n",
              "    <tr>\n",
              "      <th>short-container-title</th>\n",
              "      <td>[Phys. Rev. D]</td>\n",
              "      <td>work</td>\n",
              "      <td>1.0.0</td>\n",
              "      <td>ok</td>\n",
              "    </tr>\n",
              "    <tr>\n",
              "      <th>short-title</th>\n",
              "      <td>[]</td>\n",
              "      <td>work</td>\n",
              "      <td>1.0.0</td>\n",
              "      <td>ok</td>\n",
              "    </tr>\n",
              "    <tr>\n",
              "      <th>source</th>\n",
              "      <td>Crossref</td>\n",
              "      <td>work</td>\n",
              "      <td>1.0.0</td>\n",
              "      <td>ok</td>\n",
              "    </tr>\n",
              "    <tr>\n",
              "      <th>subtitle</th>\n",
              "      <td>[]</td>\n",
              "      <td>work</td>\n",
              "      <td>1.0.0</td>\n",
              "      <td>ok</td>\n",
              "    </tr>\n",
              "    <tr>\n",
              "      <th>title</th>\n",
              "      <td>[Fermionic triplet dark matter in an \\nSO(10)\\...</td>\n",
              "      <td>work</td>\n",
              "      <td>1.0.0</td>\n",
              "      <td>ok</td>\n",
              "    </tr>\n",
              "    <tr>\n",
              "      <th>type</th>\n",
              "      <td>journal-article</td>\n",
              "      <td>work</td>\n",
              "      <td>1.0.0</td>\n",
              "      <td>ok</td>\n",
              "    </tr>\n",
              "    <tr>\n",
              "      <th>volume</th>\n",
              "      <td>95</td>\n",
              "      <td>work</td>\n",
              "      <td>1.0.0</td>\n",
              "      <td>ok</td>\n",
              "    </tr>\n",
              "  </tbody>\n",
              "</table>\n",
              "</div>"
            ],
            "text/plain": [
              "                                                                  message  \\\n",
              "DOI                                            10.1103/physrevd.95.095034   \n",
              "ISSN                                               [2470-0010, 2470-0029]   \n",
              "URL                          http://dx.doi.org/10.1103/physrevd.95.095034   \n",
              "article-number                                                     095034   \n",
              "author                  [{'given': 'Carolina', 'family': 'Arbeláez', '...   \n",
              "container-title                                       [Physical Review D]   \n",
              "content-domain             {'domain': [], 'crossmark-restriction': False}   \n",
              "created                 {'timestamp': 1496282928000, 'date-time': '201...   \n",
              "deposited               {'timestamp': 1496283034000, 'date-time': '201...   \n",
              "funder                  [{'doi-asserted-by': 'publisher', 'name': 'Com...   \n",
              "indexed                 {'timestamp': 1528186959506, 'date-time': '201...   \n",
              "is-referenced-by-count                                                  5   \n",
              "issn-type               [{'type': 'print', 'value': '2470-0010'}, {'ty...   \n",
              "issue                                                                   9   \n",
              "issued                                    {'date-parts': [[2017, 5, 31]]}   \n",
              "journal-issue           {'published-print': {'date-parts': [[2017, 5]]...   \n",
              "language                                                               en   \n",
              "license                 [{'delay-in-days': 0, 'URL': 'http://link.aps....   \n",
              "link                    [{'content-version': 'vor', 'URL': 'http://lin...   \n",
              "member                                                                 16   \n",
              "original-title                                                         []   \n",
              "prefix                                                            10.1103   \n",
              "published-online                          {'date-parts': [[2017, 5, 31]]}   \n",
              "publisher                                 American Physical Society (APS)   \n",
              "reference               [{'doi-asserted-by': 'publisher', 'key': 'Phys...   \n",
              "reference-count                                                        46   \n",
              "references-count                                                       46   \n",
              "relation                                                    {'cites': []}   \n",
              "score                                                                   1   \n",
              "short-container-title                                      [Phys. Rev. D]   \n",
              "short-title                                                            []   \n",
              "source                                                           Crossref   \n",
              "subtitle                                                               []   \n",
              "title                   [Fermionic triplet dark matter in an \\nSO(10)\\...   \n",
              "type                                                      journal-article   \n",
              "volume                                                                 95   \n",
              "\n",
              "                       message-type message-version status  \n",
              "DOI                            work           1.0.0     ok  \n",
              "ISSN                           work           1.0.0     ok  \n",
              "URL                            work           1.0.0     ok  \n",
              "article-number                 work           1.0.0     ok  \n",
              "author                         work           1.0.0     ok  \n",
              "container-title                work           1.0.0     ok  \n",
              "content-domain                 work           1.0.0     ok  \n",
              "created                        work           1.0.0     ok  \n",
              "deposited                      work           1.0.0     ok  \n",
              "funder                         work           1.0.0     ok  \n",
              "indexed                        work           1.0.0     ok  \n",
              "is-referenced-by-count         work           1.0.0     ok  \n",
              "issn-type                      work           1.0.0     ok  \n",
              "issue                          work           1.0.0     ok  \n",
              "issued                         work           1.0.0     ok  \n",
              "journal-issue                  work           1.0.0     ok  \n",
              "language                       work           1.0.0     ok  \n",
              "license                        work           1.0.0     ok  \n",
              "link                           work           1.0.0     ok  \n",
              "member                         work           1.0.0     ok  \n",
              "original-title                 work           1.0.0     ok  \n",
              "prefix                         work           1.0.0     ok  \n",
              "published-online               work           1.0.0     ok  \n",
              "publisher                      work           1.0.0     ok  \n",
              "reference                      work           1.0.0     ok  \n",
              "reference-count                work           1.0.0     ok  \n",
              "references-count               work           1.0.0     ok  \n",
              "relation                       work           1.0.0     ok  \n",
              "score                          work           1.0.0     ok  \n",
              "short-container-title          work           1.0.0     ok  \n",
              "short-title                    work           1.0.0     ok  \n",
              "source                         work           1.0.0     ok  \n",
              "subtitle                       work           1.0.0     ok  \n",
              "title                          work           1.0.0     ok  \n",
              "type                           work           1.0.0     ok  \n",
              "volume                         work           1.0.0     ok  "
            ]
          },
          "metadata": {
            "tags": []
          },
          "execution_count": 8
        }
      ]
    },
    {
      "metadata": {
        "id": "4HJMCEbKBFhJ",
        "colab_type": "text"
      },
      "cell_type": "markdown",
      "source": [
        "Note that the resulting DataFrame has also labeled indices. It is not longer possible to access the first row with\n",
        "```python\n",
        "doi.loc[[0]]\n",
        "```\n",
        "As was done [before](https://fisica.udea.edu.co:4443/user/restrepo/notebooks/prog/cursos/data-analysis/Pandas.ipynb#DataFrame)\n",
        "\n",
        "__Activity__: Use the corresponding label to access the row 'title' of the DataFrame"
      ]
    },
    {
      "metadata": {
        "id": "gXVkt1yRBFhJ",
        "colab_type": "text"
      },
      "cell_type": "markdown",
      "source": [
        ""
      ]
    },
    {
      "metadata": {
        "id": "CJ5qBI_bBFhJ",
        "colab_type": "text"
      },
      "cell_type": "markdown",
      "source": [
        "In this way, Pandas can be used as a browser to navigate trough the pages of the machine-web. For example, the cell 'author' - 'message' of the DataFrame contains a list of dictionaries:"
      ]
    },
    {
      "metadata": {
        "scrolled": true,
        "id": "xAa8dIePBFhJ",
        "colab_type": "code",
        "colab": {},
        "outputId": "9c607fed-43bd-4c2a-a7fa-03487ae58c32"
      },
      "cell_type": "code",
      "source": [
        "doi.loc[['author']]['message'].values[0]"
      ],
      "execution_count": 0,
      "outputs": [
        {
          "output_type": "execute_result",
          "data": {
            "text/plain": [
              "[{'affiliation': [], 'family': 'Arbeláez', 'given': 'Carolina'},\n",
              " {'affiliation': [], 'family': 'Hirsch', 'given': 'Martin'},\n",
              " {'affiliation': [], 'family': 'Restrepo', 'given': 'Diego'}]"
            ]
          },
          "metadata": {
            "tags": []
          },
          "execution_count": 147
        }
      ]
    },
    {
      "metadata": {
        "id": "tvH5t90xBFhL",
        "colab_type": "text"
      },
      "cell_type": "markdown",
      "source": [
        "which can be easily converted into a new DataFrame as: "
      ]
    },
    {
      "metadata": {
        "id": "FPcXhXW8BFhL",
        "colab_type": "code",
        "colab": {},
        "outputId": "52eb45bf-9483-4bff-e5cd-e628da42b3a9"
      },
      "cell_type": "code",
      "source": [
        "pd.DataFrame( doi.loc[['author']]['message'].values[0] )[['given','family']]"
      ],
      "execution_count": 0,
      "outputs": [
        {
          "output_type": "execute_result",
          "data": {
            "text/html": [
              "<div>\n",
              "<table border=\"1\" class=\"dataframe\">\n",
              "  <thead>\n",
              "    <tr style=\"text-align: right;\">\n",
              "      <th></th>\n",
              "      <th>given</th>\n",
              "      <th>family</th>\n",
              "    </tr>\n",
              "  </thead>\n",
              "  <tbody>\n",
              "    <tr>\n",
              "      <th>0</th>\n",
              "      <td>Carolina</td>\n",
              "      <td>Arbeláez</td>\n",
              "    </tr>\n",
              "    <tr>\n",
              "      <th>1</th>\n",
              "      <td>Martin</td>\n",
              "      <td>Hirsch</td>\n",
              "    </tr>\n",
              "    <tr>\n",
              "      <th>2</th>\n",
              "      <td>Diego</td>\n",
              "      <td>Restrepo</td>\n",
              "    </tr>\n",
              "  </tbody>\n",
              "</table>\n",
              "</div>"
            ],
            "text/plain": [
              "      given    family\n",
              "0  Carolina  Arbeláez\n",
              "1    Martin    Hirsch\n",
              "2     Diego  Restrepo"
            ]
          },
          "metadata": {
            "tags": []
          },
          "execution_count": 149
        }
      ]
    },
    {
      "metadata": {
        "id": "U_TA8XC_BFhM",
        "colab_type": "text"
      },
      "cell_type": "markdown",
      "source": [
        "__Activity__: Obtain the list of references as a Pandas DataFrame and fill the `NaN` values with the empty string"
      ]
    },
    {
      "metadata": {
        "id": "LAA4px_uBFhN",
        "colab_type": "text"
      },
      "cell_type": "markdown",
      "source": [
        "## Google search\n",
        "By following the instructions from [here](https://stackoverflow.com/a/46374861/2268280)"
      ]
    },
    {
      "metadata": {
        "id": "e3jMgtbKBFhN",
        "colab_type": "code",
        "colab": {}
      },
      "cell_type": "code",
      "source": [
        "import requests \n",
        "from bs4 import BeautifulSoup\n",
        "\n",
        "headers_Get = {\n",
        "        'User-Agent': 'Mozilla/5.0 (Windows NT 6.1; WOW64; rv:49.0) Gecko/20100101 Firefox/49.0',\n",
        "        'Accept': 'text/html,application/xhtml+xml,application/xml;q=0.9,*/*;q=0.8',\n",
        "        'Accept-Language': 'en-US,en;q=0.5',\n",
        "        'Accept-Encoding': 'gzip, deflate',\n",
        "        'DNT': '1',\n",
        "        'Connection': 'keep-alive',\n",
        "        'Upgrade-Insecure-Requests': '1'\n",
        "    }\n",
        "\n",
        "\n",
        "def google(q):\n",
        "    s = requests.Session()\n",
        "    q = '+'.join(q.split())\n",
        "    url = 'https://www.google.com/search?q=' + q + '&ie=utf-8&oe=utf-8'\n",
        "    r = s.get(url, headers=headers_Get)\n",
        "\n",
        "    soup = BeautifulSoup(r.text, \"html.parser\")\n",
        "    output = []\n",
        "    for searchWrapper in soup.find_all('h3', {'class':'r'}): #this line may change in future based on google's web page structure\n",
        "        url = searchWrapper.find('a')[\"href\"] \n",
        "        text = searchWrapper.find('a').text.strip()\n",
        "        result = {'text': text, 'url': url}\n",
        "        output.append(result)\n",
        "\n",
        "    return output"
      ],
      "execution_count": 0,
      "outputs": []
    },
    {
      "metadata": {
        "id": "Mb_zBkgJBFhP",
        "colab_type": "code",
        "colab": {},
        "outputId": "580796f9-0b98-4825-94bf-757959cde340"
      },
      "cell_type": "code",
      "source": [
        "rdf=pd.DataFrame( google('albert einstein google scholar') )\n",
        "rdf"
      ],
      "execution_count": 0,
      "outputs": [
        {
          "output_type": "execute_result",
          "data": {
            "text/html": [
              "<div>\n",
              "<table border=\"1\" class=\"dataframe\">\n",
              "  <thead>\n",
              "    <tr style=\"text-align: right;\">\n",
              "      <th></th>\n",
              "      <th>text</th>\n",
              "      <th>url</th>\n",
              "    </tr>\n",
              "  </thead>\n",
              "  <tbody>\n",
              "    <tr>\n",
              "      <th>0</th>\n",
              "      <td>Albert Einstein - Google Scholar Citations</td>\n",
              "      <td>http://scholar.google.com/citations?user=qc6CJjYAAAAJ&amp;hl=es</td>\n",
              "    </tr>\n",
              "    <tr>\n",
              "      <th>1</th>\n",
              "      <td>Albert Einstein - Google Scholar Citations</td>\n",
              "      <td>http://scholar.google.com/citations?user=wID1_xkAAAAJ&amp;hl=en</td>\n",
              "    </tr>\n",
              "    <tr>\n",
              "      <th>2</th>\n",
              "      <td>Albert Einstein - Citas de Google Académico</td>\n",
              "      <td>http://scholar.google.es/citations?user=3bCfWEAAAAAJ&amp;hl=es</td>\n",
              "    </tr>\n",
              "    <tr>\n",
              "      <th>3</th>\n",
              "      <td>Who sets up the Google Scholar Citation profiles for Albert ...</td>\n",
              "      <td>https://www.quora.com/Who-sets-up-the-Google-Scholar-Citation-profiles-for-Albert-Einstein-and-Richard-Feynman</td>\n",
              "    </tr>\n",
              "    <tr>\n",
              "      <th>4</th>\n",
              "      <td>Home - Google Scholar - LibGuides at Albert Einstein College of ...</td>\n",
              "      <td>http://libguides.einstein.yu.edu/googlescholar</td>\n",
              "    </tr>\n",
              "    <tr>\n",
              "      <th>5</th>\n",
              "      <td>2610 Highly Cited Researchers (h&gt;100) according to their Google ...</td>\n",
              "      <td>http://www.webometrics.info/es/node/58</td>\n",
              "    </tr>\n",
              "    <tr>\n",
              "      <th>6</th>\n",
              "      <td>7 ways to make your Google Scholar Profile better - Impactstory blog</td>\n",
              "      <td>http://blog.impactstory.org/make-google-scholar-better/</td>\n",
              "    </tr>\n",
              "    <tr>\n",
              "      <th>7</th>\n",
              "      <td>Michel Ballings on Twitter: \"Albert Einstein's Google Scholar Citations ...</td>\n",
              "      <td>https://twitter.com/michelballings/status/279895383663075329</td>\n",
              "    </tr>\n",
              "    <tr>\n",
              "      <th>8</th>\n",
              "      <td>Google Scholar Citations | theoretical ecology</td>\n",
              "      <td>https://theoreticalecology.wordpress.com/2011/11/17/google-scholar-citations/</td>\n",
              "    </tr>\n",
              "    <tr>\n",
              "      <th>9</th>\n",
              "      <td>H-indices and how academic publishing has changed: Feynman and ...</td>\n",
              "      <td>https://computinged.wordpress.com/2011/08/04/h-indices-and-how-academic-publishing-has-changed-feynman-and-einstein-just-arent-that-impressive-anymore/</td>\n",
              "    </tr>\n",
              "  </tbody>\n",
              "</table>\n",
              "</div>"
            ],
            "text/plain": [
              "                                                                          text  \\\n",
              "0                                   Albert Einstein - Google Scholar Citations   \n",
              "1                                   Albert Einstein - Google Scholar Citations   \n",
              "2                                  Albert Einstein - Citas de Google Académico   \n",
              "3              Who sets up the Google Scholar Citation profiles for Albert ...   \n",
              "4          Home - Google Scholar - LibGuides at Albert Einstein College of ...   \n",
              "5          2610 Highly Cited Researchers (h>100) according to their Google ...   \n",
              "6         7 ways to make your Google Scholar Profile better - Impactstory blog   \n",
              "7  Michel Ballings on Twitter: \"Albert Einstein's Google Scholar Citations ...   \n",
              "8                               Google Scholar Citations | theoretical ecology   \n",
              "9           H-indices and how academic publishing has changed: Feynman and ...   \n",
              "\n",
              "                                                                                                                                                       url  \n",
              "0                                                                                              http://scholar.google.com/citations?user=qc6CJjYAAAAJ&hl=es  \n",
              "1                                                                                              http://scholar.google.com/citations?user=wID1_xkAAAAJ&hl=en  \n",
              "2                                                                                               http://scholar.google.es/citations?user=3bCfWEAAAAAJ&hl=es  \n",
              "3                                           https://www.quora.com/Who-sets-up-the-Google-Scholar-Citation-profiles-for-Albert-Einstein-and-Richard-Feynman  \n",
              "4                                                                                                           http://libguides.einstein.yu.edu/googlescholar  \n",
              "5                                                                                                                   http://www.webometrics.info/es/node/58  \n",
              "6                                                                                                  http://blog.impactstory.org/make-google-scholar-better/  \n",
              "7                                                                                             https://twitter.com/michelballings/status/279895383663075329  \n",
              "8                                                                            https://theoreticalecology.wordpress.com/2011/11/17/google-scholar-citations/  \n",
              "9  https://computinged.wordpress.com/2011/08/04/h-indices-and-how-academic-publishing-has-changed-feynman-and-einstein-just-arent-that-impressive-anymore/  "
            ]
          },
          "metadata": {
            "tags": []
          },
          "execution_count": 180
        }
      ]
    },
    {
      "metadata": {
        "id": "X2W_niSrBFhQ",
        "colab_type": "text"
      },
      "cell_type": "markdown",
      "source": [
        "## Conclusion\n",
        "In an ideal world we would have access to the metadata of the all research articles, in an automated machine readable way.\n",
        "\n",
        "In [crossref](crossref.ipynb) we show that it is not the case for Redalyc journals.\n",
        "\n",
        "The references listed below allows to create [Networks](Network.ipynb) of articles, provided that they are well _normalized_.\n",
        "\n",
        "A real case scenario of obtain the metadata of _many_ research articles including references  is by means of the use of the  [Inspire HEP](inspire.ipynb), the information system for  High Energy Physics.\n",
        "\n",
        "Example of [advanced use](rg.ipynb)"
      ]
    },
    {
      "metadata": {
        "collapsed": true,
        "id": "ik4v0c9kBFhS",
        "colab_type": "text"
      },
      "cell_type": "markdown",
      "source": [
        "##  ACTIVITIES\n",
        "See:\n",
        "* https://github.com/ajcr/100-pandas-puzzles\n",
        "* https://github.com/guipsamora/pandas_exercises"
      ]
    },
    {
      "metadata": {
        "collapsed": true,
        "id": "00XBdAouBFhS",
        "colab_type": "text"
      },
      "cell_type": "markdown",
      "source": [
        "## Additional materials\n",
        "See [this online course](https://www.datacamp.com/community/tutorials/pandas-tutorial-dataframe-python)\n",
        "\n",
        "See [this help](https://restrepo.github.io/PythonTipsAndTricks/)\n",
        "\n",
        "A good and practice book about `Pandas` possibilities is:\n",
        "\n",
        "[__Python for Data Analysis__](https://drive.google.com/open?id=0BxoOXsn2EUNIWExXbVc4SDN0YTQ)<br/>\n",
        "Data Wrangling with Pandas, NumPy, and IPython<br/>\n",
        "_By William McKinney_\n",
        "\n",
        "\n",
        "This other is about aplications based on `Pandas`:\n",
        "<div style=\"float: right;\" markdown=\"1\">\n",
        "    <img src=\"https://covers.oreillystatic.com/images/0636920030515/cat.gif\">\n",
        "</div>\n",
        "[Introduction to Machine Learning with Python](https://drive.google.com/open?id=0BxoOXsn2EUNISGhrdEZ3S29fS3M)<br/>\n",
        "A Guide for Data Scientists\n",
        "By Sarah Guido, Andreas Müller\n",
        "\n",
        "`Pandas` can be used in a similar way to `R`, which is based on similar data structures. `Pandas` also can replace the use of graphical interfaces to access spreadsheets like Excel"
      ]
    },
    {
      "metadata": {
        "id": "tQwrdqH9BFhS",
        "colab_type": "text"
      },
      "cell_type": "markdown",
      "source": [
        "Continue with [Network tutorial](./Network.ipynb)"
      ]
    },
    {
      "metadata": {
        "id": "BMVLbilUBFhT",
        "colab_type": "code",
        "colab": {}
      },
      "cell_type": "code",
      "source": [
        ""
      ],
      "execution_count": 0,
      "outputs": []
    }
  ]
}